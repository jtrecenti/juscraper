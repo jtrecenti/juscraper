{
 "cells": [
  {
   "cell_type": "markdown",
   "metadata": {},
   "source": [
    "# Exemplo de uso\n",
    "\n",
    "Para usar o juscraper, rode algo assim:"
   ]
  },
  {
   "cell_type": "code",
   "execution_count": 1,
   "metadata": {},
   "outputs": [],
   "source": [
    "import juscraper as jus\n",
    "\n",
    "# cria um objeto datajud\n",
    "datajud = jus.scraper('datajud', verbose=False)"
   ]
  },
  {
   "cell_type": "code",
   "execution_count": 2,
   "metadata": {},
   "outputs": [
    {
     "data": {
      "application/vnd.jupyter.widget-view+json": {
       "model_id": "f48f7d062d4642e189ba42fde0e03016",
       "version_major": 2,
       "version_minor": 0
      },
      "text/plain": [
       "Paginando api_publica_tjsp: 0 página [00:00, ? página/s]"
      ]
     },
     "metadata": {},
     "output_type": "display_data"
    },
    {
     "data": {
      "application/vnd.jupyter.widget-view+json": {
       "model_id": "6caf34975cf9451dba1fcd8f20164785",
       "version_major": 2,
       "version_minor": 0
      },
      "text/plain": [
       "Paginando api_publica_tjrj: 0 página [00:00, ? página/s]"
      ]
     },
     "metadata": {},
     "output_type": "display_data"
    },
    {
     "name": "stdout",
     "output_type": "stream",
     "text": [
      "(2, 14)\n"
     ]
    },
    {
     "data": {
      "text/html": [
       "<div>\n",
       "<style scoped>\n",
       "    .dataframe tbody tr th:only-of-type {\n",
       "        vertical-align: middle;\n",
       "    }\n",
       "\n",
       "    .dataframe tbody tr th {\n",
       "        vertical-align: top;\n",
       "    }\n",
       "\n",
       "    .dataframe thead th {\n",
       "        text-align: right;\n",
       "    }\n",
       "</style>\n",
       "<table border=\"1\" class=\"dataframe\">\n",
       "  <thead>\n",
       "    <tr style=\"text-align: right;\">\n",
       "      <th></th>\n",
       "      <th>classe</th>\n",
       "      <th>numeroProcesso</th>\n",
       "      <th>sistema</th>\n",
       "      <th>formato</th>\n",
       "      <th>tribunal</th>\n",
       "      <th>dataHoraUltimaAtualizacao</th>\n",
       "      <th>grau</th>\n",
       "      <th>@timestamp</th>\n",
       "      <th>dataAjuizamento</th>\n",
       "      <th>movimentos</th>\n",
       "      <th>id</th>\n",
       "      <th>nivelSigilo</th>\n",
       "      <th>orgaoJulgador</th>\n",
       "      <th>assuntos</th>\n",
       "    </tr>\n",
       "  </thead>\n",
       "  <tbody>\n",
       "    <tr>\n",
       "      <th>0</th>\n",
       "      <td>{'codigo': 241, 'nome': 'Petição Cível'}</td>\n",
       "      <td>10092161720238260016</td>\n",
       "      <td>{'codigo': 3, 'nome': 'SAJ'}</td>\n",
       "      <td>{'codigo': 1, 'nome': 'Eletrônico'}</td>\n",
       "      <td>TJSP</td>\n",
       "      <td>2025-01-10T17:30:41.793Z</td>\n",
       "      <td>JE</td>\n",
       "      <td>2025-02-07T17:38:06.012900843Z</td>\n",
       "      <td>2023-04-26T11:27:34.000Z</td>\n",
       "      <td>[{'complementosTabelados': [{'codigo': 2, 'val...</td>\n",
       "      <td>TJSP_JE_10092161720238260016</td>\n",
       "      <td>0</td>\n",
       "      <td>{'codigo': 10608, 'nome': '02 VARA JUIZADO ESP...</td>\n",
       "      <td>[{'codigo': 8893, 'nome': 'Atos Processuais'}]</td>\n",
       "    </tr>\n",
       "    <tr>\n",
       "      <th>1</th>\n",
       "      <td>{'codigo': 202, 'nome': 'Agravo de Instrumento'}</td>\n",
       "      <td>00665754820248190000</td>\n",
       "      <td>{'codigo': 8, 'nome': 'Outros'}</td>\n",
       "      <td>{'codigo': 1, 'nome': 'Eletrônico'}</td>\n",
       "      <td>TJRJ</td>\n",
       "      <td>2025-05-08T14:03:27.957Z</td>\n",
       "      <td>G2</td>\n",
       "      <td>2025-05-29T22:14:11.517670660Z</td>\n",
       "      <td>2024-08-16T15:07:06.000Z</td>\n",
       "      <td>[{'complementosTabelados': [{'codigo': 4, 'val...</td>\n",
       "      <td>TJRJ_G2_00665754820248190000</td>\n",
       "      <td>0</td>\n",
       "      <td>{'codigoMunicipioIBGE': 3304557, 'codigo': 856...</td>\n",
       "      <td>[{'codigo': 10499, 'nome': 'Programa de Comput...</td>\n",
       "    </tr>\n",
       "  </tbody>\n",
       "</table>\n",
       "</div>"
      ],
      "text/plain": [
       "                                             classe        numeroProcesso  \\\n",
       "0          {'codigo': 241, 'nome': 'Petição Cível'}  10092161720238260016   \n",
       "1  {'codigo': 202, 'nome': 'Agravo de Instrumento'}  00665754820248190000   \n",
       "\n",
       "                           sistema                              formato  \\\n",
       "0     {'codigo': 3, 'nome': 'SAJ'}  {'codigo': 1, 'nome': 'Eletrônico'}   \n",
       "1  {'codigo': 8, 'nome': 'Outros'}  {'codigo': 1, 'nome': 'Eletrônico'}   \n",
       "\n",
       "  tribunal dataHoraUltimaAtualizacao grau                      @timestamp  \\\n",
       "0     TJSP  2025-01-10T17:30:41.793Z   JE  2025-02-07T17:38:06.012900843Z   \n",
       "1     TJRJ  2025-05-08T14:03:27.957Z   G2  2025-05-29T22:14:11.517670660Z   \n",
       "\n",
       "            dataAjuizamento  \\\n",
       "0  2023-04-26T11:27:34.000Z   \n",
       "1  2024-08-16T15:07:06.000Z   \n",
       "\n",
       "                                          movimentos  \\\n",
       "0  [{'complementosTabelados': [{'codigo': 2, 'val...   \n",
       "1  [{'complementosTabelados': [{'codigo': 4, 'val...   \n",
       "\n",
       "                             id  nivelSigilo  \\\n",
       "0  TJSP_JE_10092161720238260016            0   \n",
       "1  TJRJ_G2_00665754820248190000            0   \n",
       "\n",
       "                                       orgaoJulgador  \\\n",
       "0  {'codigo': 10608, 'nome': '02 VARA JUIZADO ESP...   \n",
       "1  {'codigoMunicipioIBGE': 3304557, 'codigo': 856...   \n",
       "\n",
       "                                            assuntos  \n",
       "0     [{'codigo': 8893, 'nome': 'Atos Processuais'}]  \n",
       "1  [{'codigo': 10499, 'nome': 'Programa de Comput...  "
      ]
     },
     "execution_count": 2,
     "metadata": {},
     "output_type": "execute_result"
    }
   ],
   "source": [
    "\n",
    "# lista os processos\n",
    "processos = ['10092161720238260016', '00665754820248190000']\n",
    "listagem = datajud.listar_processos(numero_processo=processos, mostrar_movs=True)\n",
    "\n",
    "print(listagem.shape)\n",
    "listagem.head(3)"
   ]
  },
  {
   "cell_type": "code",
   "execution_count": 3,
   "metadata": {},
   "outputs": [
    {
     "data": {
      "application/vnd.jupyter.widget-view+json": {
       "model_id": "181c8814fc7344398801c334e61a07cb",
       "version_major": 2,
       "version_minor": 0
      },
      "text/plain": [
       "Paginando api_publica_tjsp: 0 página [00:00, ? página/s]"
      ]
     },
     "metadata": {},
     "output_type": "display_data"
    },
    {
     "data": {
      "application/vnd.jupyter.widget-view+json": {
       "model_id": "805ff83e8de94bb1865870170596f972",
       "version_major": 2,
       "version_minor": 0
      },
      "text/plain": [
       "Paginando api_publica_tjrj: 0 página [00:00, ? página/s]"
      ]
     },
     "metadata": {},
     "output_type": "display_data"
    },
    {
     "data": {
      "text/html": [
       "<div>\n",
       "<style scoped>\n",
       "    .dataframe tbody tr th:only-of-type {\n",
       "        vertical-align: middle;\n",
       "    }\n",
       "\n",
       "    .dataframe tbody tr th {\n",
       "        vertical-align: top;\n",
       "    }\n",
       "\n",
       "    .dataframe thead th {\n",
       "        text-align: right;\n",
       "    }\n",
       "</style>\n",
       "<table border=\"1\" class=\"dataframe\">\n",
       "  <thead>\n",
       "    <tr style=\"text-align: right;\">\n",
       "      <th></th>\n",
       "      <th>classe</th>\n",
       "      <th>numeroProcesso</th>\n",
       "      <th>sistema</th>\n",
       "      <th>formato</th>\n",
       "      <th>tribunal</th>\n",
       "      <th>dataHoraUltimaAtualizacao</th>\n",
       "      <th>grau</th>\n",
       "      <th>@timestamp</th>\n",
       "      <th>dataAjuizamento</th>\n",
       "      <th>id</th>\n",
       "      <th>nivelSigilo</th>\n",
       "      <th>orgaoJulgador</th>\n",
       "      <th>assuntos</th>\n",
       "    </tr>\n",
       "  </thead>\n",
       "  <tbody>\n",
       "    <tr>\n",
       "      <th>0</th>\n",
       "      <td>{'codigo': 241, 'nome': 'Petição Cível'}</td>\n",
       "      <td>10092161720238260016</td>\n",
       "      <td>{'codigo': 3, 'nome': 'SAJ'}</td>\n",
       "      <td>{'codigo': 1, 'nome': 'Eletrônico'}</td>\n",
       "      <td>TJSP</td>\n",
       "      <td>2025-01-10T17:30:41.793Z</td>\n",
       "      <td>JE</td>\n",
       "      <td>2025-02-07T17:38:06.012900843Z</td>\n",
       "      <td>2023-04-26T11:27:34.000Z</td>\n",
       "      <td>TJSP_JE_10092161720238260016</td>\n",
       "      <td>0</td>\n",
       "      <td>{'codigo': 10608, 'nome': '02 VARA JUIZADO ESP...</td>\n",
       "      <td>[{'codigo': 8893, 'nome': 'Atos Processuais'}]</td>\n",
       "    </tr>\n",
       "    <tr>\n",
       "      <th>1</th>\n",
       "      <td>{'codigo': 202, 'nome': 'Agravo de Instrumento'}</td>\n",
       "      <td>00665754820248190000</td>\n",
       "      <td>{'codigo': 8, 'nome': 'Outros'}</td>\n",
       "      <td>{'codigo': 1, 'nome': 'Eletrônico'}</td>\n",
       "      <td>TJRJ</td>\n",
       "      <td>2025-05-08T14:03:27.957Z</td>\n",
       "      <td>G2</td>\n",
       "      <td>2025-05-29T22:14:11.517670660Z</td>\n",
       "      <td>2024-08-16T15:07:06.000Z</td>\n",
       "      <td>TJRJ_G2_00665754820248190000</td>\n",
       "      <td>0</td>\n",
       "      <td>{'codigoMunicipioIBGE': 3304557, 'codigo': 856...</td>\n",
       "      <td>[{'codigo': 10499, 'nome': 'Programa de Comput...</td>\n",
       "    </tr>\n",
       "  </tbody>\n",
       "</table>\n",
       "</div>"
      ],
      "text/plain": [
       "                                             classe        numeroProcesso  \\\n",
       "0          {'codigo': 241, 'nome': 'Petição Cível'}  10092161720238260016   \n",
       "1  {'codigo': 202, 'nome': 'Agravo de Instrumento'}  00665754820248190000   \n",
       "\n",
       "                           sistema                              formato  \\\n",
       "0     {'codigo': 3, 'nome': 'SAJ'}  {'codigo': 1, 'nome': 'Eletrônico'}   \n",
       "1  {'codigo': 8, 'nome': 'Outros'}  {'codigo': 1, 'nome': 'Eletrônico'}   \n",
       "\n",
       "  tribunal dataHoraUltimaAtualizacao grau                      @timestamp  \\\n",
       "0     TJSP  2025-01-10T17:30:41.793Z   JE  2025-02-07T17:38:06.012900843Z   \n",
       "1     TJRJ  2025-05-08T14:03:27.957Z   G2  2025-05-29T22:14:11.517670660Z   \n",
       "\n",
       "            dataAjuizamento                            id  nivelSigilo  \\\n",
       "0  2023-04-26T11:27:34.000Z  TJSP_JE_10092161720238260016            0   \n",
       "1  2024-08-16T15:07:06.000Z  TJRJ_G2_00665754820248190000            0   \n",
       "\n",
       "                                       orgaoJulgador  \\\n",
       "0  {'codigo': 10608, 'nome': '02 VARA JUIZADO ESP...   \n",
       "1  {'codigoMunicipioIBGE': 3304557, 'codigo': 856...   \n",
       "\n",
       "                                            assuntos  \n",
       "0     [{'codigo': 8893, 'nome': 'Atos Processuais'}]  \n",
       "1  [{'codigo': 10499, 'nome': 'Programa de Comput...  "
      ]
     },
     "execution_count": 3,
     "metadata": {},
     "output_type": "execute_result"
    }
   ],
   "source": [
    "listagem = datajud.listar_processos(numero_processo=processos)\n",
    "listagem"
   ]
  },
  {
   "cell_type": "code",
   "execution_count": 4,
   "metadata": {},
   "outputs": [
    {
     "data": {
      "application/vnd.jupyter.widget-view+json": {
       "model_id": "7fc079f514f840c2b6a37e7fc3c2bbf2",
       "version_major": 2,
       "version_minor": 0
      },
      "text/plain": [
       "Paginando api_publica_tjrj:   0%|          | 0/15 [00:00<?, ? página/s]"
      ]
     },
     "metadata": {},
     "output_type": "display_data"
    },
    {
     "name": "stdout",
     "output_type": "stream",
     "text": [
      "(15000, 13)\n"
     ]
    },
    {
     "data": {
      "text/html": [
       "<div>\n",
       "<style scoped>\n",
       "    .dataframe tbody tr th:only-of-type {\n",
       "        vertical-align: middle;\n",
       "    }\n",
       "\n",
       "    .dataframe tbody tr th {\n",
       "        vertical-align: top;\n",
       "    }\n",
       "\n",
       "    .dataframe thead th {\n",
       "        text-align: right;\n",
       "    }\n",
       "</style>\n",
       "<table border=\"1\" class=\"dataframe\">\n",
       "  <thead>\n",
       "    <tr style=\"text-align: right;\">\n",
       "      <th></th>\n",
       "      <th>classe</th>\n",
       "      <th>numeroProcesso</th>\n",
       "      <th>sistema</th>\n",
       "      <th>formato</th>\n",
       "      <th>tribunal</th>\n",
       "      <th>dataHoraUltimaAtualizacao</th>\n",
       "      <th>grau</th>\n",
       "      <th>@timestamp</th>\n",
       "      <th>dataAjuizamento</th>\n",
       "      <th>id</th>\n",
       "      <th>nivelSigilo</th>\n",
       "      <th>orgaoJulgador</th>\n",
       "      <th>assuntos</th>\n",
       "    </tr>\n",
       "  </thead>\n",
       "  <tbody>\n",
       "    <tr>\n",
       "      <th>0</th>\n",
       "      <td>{'codigo': 282, 'nome': 'Ação Penal de Competê...</td>\n",
       "      <td>00003298920088190078</td>\n",
       "      <td>{'codigo': 8, 'nome': 'Outros'}</td>\n",
       "      <td>{'codigo': 2, 'nome': 'Físico'}</td>\n",
       "      <td>TJRJ</td>\n",
       "      <td>2023-08-15T08:01:14.384Z</td>\n",
       "      <td>G1</td>\n",
       "      <td>2025-06-15T21:21:53.344048218Z</td>\n",
       "      <td>2009-11-09T00:00:00.000Z</td>\n",
       "      <td>TJRJ_282_G1_11376_00003298920088190078</td>\n",
       "      <td>0</td>\n",
       "      <td>{'codigoMunicipioIBGE': 3300233, 'codigo': 113...</td>\n",
       "      <td>[{'codigo': 3370, 'nome': 'Homicídio Simples'}]</td>\n",
       "    </tr>\n",
       "    <tr>\n",
       "      <th>1</th>\n",
       "      <td>{'codigo': 282, 'nome': 'Ação Penal de Competê...</td>\n",
       "      <td>00004872720208190078</td>\n",
       "      <td>{'codigo': 8, 'nome': 'Outros'}</td>\n",
       "      <td>{'codigo': 1, 'nome': 'Eletrônico'}</td>\n",
       "      <td>TJRJ</td>\n",
       "      <td>2022-09-15T03:39:05.718Z</td>\n",
       "      <td>G1</td>\n",
       "      <td>2025-06-17T10:58:18.440836740Z</td>\n",
       "      <td>2020-02-21T00:00:00.000Z</td>\n",
       "      <td>TJRJ_282_G1_11376_00004872720208190078</td>\n",
       "      <td>0</td>\n",
       "      <td>{'codigoMunicipioIBGE': 3300233, 'codigo': 113...</td>\n",
       "      <td>[{'codigo': 3372, 'nome': 'Homicídio Qualifica...</td>\n",
       "    </tr>\n",
       "    <tr>\n",
       "      <th>2</th>\n",
       "      <td>{'codigo': 282, 'nome': 'Ação Penal de Competê...</td>\n",
       "      <td>00004880820038190078</td>\n",
       "      <td>{'codigo': 8, 'nome': 'Outros'}</td>\n",
       "      <td>{'codigo': 2, 'nome': 'Físico'}</td>\n",
       "      <td>TJRJ</td>\n",
       "      <td>2023-08-31T03:10:45.783Z</td>\n",
       "      <td>G1</td>\n",
       "      <td>2025-06-15T22:43:25.312100568Z</td>\n",
       "      <td>2003-04-01T00:00:00.000Z</td>\n",
       "      <td>TJRJ_282_G1_11376_00004880820038190078</td>\n",
       "      <td>0</td>\n",
       "      <td>{'codigoMunicipioIBGE': 3300233, 'codigo': 113...</td>\n",
       "      <td>[{'codigo': 3372, 'nome': 'Homicídio Qualifica...</td>\n",
       "    </tr>\n",
       "  </tbody>\n",
       "</table>\n",
       "</div>"
      ],
      "text/plain": [
       "                                              classe        numeroProcesso  \\\n",
       "0  {'codigo': 282, 'nome': 'Ação Penal de Competê...  00003298920088190078   \n",
       "1  {'codigo': 282, 'nome': 'Ação Penal de Competê...  00004872720208190078   \n",
       "2  {'codigo': 282, 'nome': 'Ação Penal de Competê...  00004880820038190078   \n",
       "\n",
       "                           sistema                              formato  \\\n",
       "0  {'codigo': 8, 'nome': 'Outros'}      {'codigo': 2, 'nome': 'Físico'}   \n",
       "1  {'codigo': 8, 'nome': 'Outros'}  {'codigo': 1, 'nome': 'Eletrônico'}   \n",
       "2  {'codigo': 8, 'nome': 'Outros'}      {'codigo': 2, 'nome': 'Físico'}   \n",
       "\n",
       "  tribunal dataHoraUltimaAtualizacao grau                      @timestamp  \\\n",
       "0     TJRJ  2023-08-15T08:01:14.384Z   G1  2025-06-15T21:21:53.344048218Z   \n",
       "1     TJRJ  2022-09-15T03:39:05.718Z   G1  2025-06-17T10:58:18.440836740Z   \n",
       "2     TJRJ  2023-08-31T03:10:45.783Z   G1  2025-06-15T22:43:25.312100568Z   \n",
       "\n",
       "            dataAjuizamento                                      id  \\\n",
       "0  2009-11-09T00:00:00.000Z  TJRJ_282_G1_11376_00003298920088190078   \n",
       "1  2020-02-21T00:00:00.000Z  TJRJ_282_G1_11376_00004872720208190078   \n",
       "2  2003-04-01T00:00:00.000Z  TJRJ_282_G1_11376_00004880820038190078   \n",
       "\n",
       "   nivelSigilo                                      orgaoJulgador  \\\n",
       "0            0  {'codigoMunicipioIBGE': 3300233, 'codigo': 113...   \n",
       "1            0  {'codigoMunicipioIBGE': 3300233, 'codigo': 113...   \n",
       "2            0  {'codigoMunicipioIBGE': 3300233, 'codigo': 113...   \n",
       "\n",
       "                                            assuntos  \n",
       "0    [{'codigo': 3370, 'nome': 'Homicídio Simples'}]  \n",
       "1  [{'codigo': 3372, 'nome': 'Homicídio Qualifica...  \n",
       "2  [{'codigo': 3372, 'nome': 'Homicídio Qualifica...  "
      ]
     },
     "execution_count": 4,
     "metadata": {},
     "output_type": "execute_result"
    }
   ],
   "source": [
    "listagem = datajud.listar_processos(classe = '282', tribunal = 'TJRJ', mostrar_movs=False, paginas=range(0,15))\n",
    "\n",
    "print(listagem.shape)\n",
    "listagem.head(3)"
   ]
  },
  {
   "cell_type": "code",
   "execution_count": 5,
   "metadata": {},
   "outputs": [
    {
     "data": {
      "application/vnd.jupyter.widget-view+json": {
       "model_id": "f7f66463b44044e6b483bd00d47d4324",
       "version_major": 2,
       "version_minor": 0
      },
      "text/plain": [
       "Paginando api_publica_tjmg: 0 página [00:00, ? página/s]"
      ]
     },
     "metadata": {},
     "output_type": "display_data"
    },
    {
     "data": {
      "text/html": [
       "<div>\n",
       "<style scoped>\n",
       "    .dataframe tbody tr th:only-of-type {\n",
       "        vertical-align: middle;\n",
       "    }\n",
       "\n",
       "    .dataframe tbody tr th {\n",
       "        vertical-align: top;\n",
       "    }\n",
       "\n",
       "    .dataframe thead th {\n",
       "        text-align: right;\n",
       "    }\n",
       "</style>\n",
       "<table border=\"1\" class=\"dataframe\">\n",
       "  <thead>\n",
       "    <tr style=\"text-align: right;\">\n",
       "      <th></th>\n",
       "      <th>numeroProcesso</th>\n",
       "      <th>classe</th>\n",
       "      <th>sistema</th>\n",
       "      <th>formato</th>\n",
       "      <th>tribunal</th>\n",
       "      <th>dataHoraUltimaAtualizacao</th>\n",
       "      <th>grau</th>\n",
       "      <th>@timestamp</th>\n",
       "      <th>dataAjuizamento</th>\n",
       "      <th>id</th>\n",
       "      <th>nivelSigilo</th>\n",
       "      <th>orgaoJulgador</th>\n",
       "      <th>assuntos</th>\n",
       "    </tr>\n",
       "  </thead>\n",
       "  <tbody>\n",
       "    <tr>\n",
       "      <th>0</th>\n",
       "      <td>08269787520228130000</td>\n",
       "      <td>{'codigo': 1032, 'nome': 'Recurso Especial'}</td>\n",
       "      <td>{'codigo': 8, 'nome': 'Outros'}</td>\n",
       "      <td>{'codigo': 1, 'nome': 'Eletrônico'}</td>\n",
       "      <td>TJMG</td>\n",
       "      <td>2023-07-30T01:26:23.606Z</td>\n",
       "      <td>G2</td>\n",
       "      <td>2025-06-16T01:29:32.570005493Z</td>\n",
       "      <td>2023-06-14T17:54:25.000Z</td>\n",
       "      <td>TJMG_1032_G2_45131_08269787520228130000</td>\n",
       "      <td>0</td>\n",
       "      <td>{'codigoMunicipioIBGE': 3148004, 'codigo': 451...</td>\n",
       "      <td>[{'codigo': 12503, 'nome': 'Urgência'}]</td>\n",
       "    </tr>\n",
       "    <tr>\n",
       "      <th>1</th>\n",
       "      <td>19624280720218130000</td>\n",
       "      <td>{'codigo': 1032, 'nome': 'Recurso Especial'}</td>\n",
       "      <td>{'codigo': 8, 'nome': 'Outros'}</td>\n",
       "      <td>{'codigo': 1, 'nome': 'Eletrônico'}</td>\n",
       "      <td>TJMG</td>\n",
       "      <td>2023-07-30T01:23:45.279Z</td>\n",
       "      <td>G2</td>\n",
       "      <td>2025-06-16T01:29:02.987771094Z</td>\n",
       "      <td>2022-01-13T11:17:11.000Z</td>\n",
       "      <td>TJMG_1032_G2_45131_19624280720218130000</td>\n",
       "      <td>0</td>\n",
       "      <td>{'codigoMunicipioIBGE': 3123908, 'codigo': 451...</td>\n",
       "      <td>[{'codigo': 12501, 'nome': 'Cirurgia'}, {'codi...</td>\n",
       "    </tr>\n",
       "    <tr>\n",
       "      <th>2</th>\n",
       "      <td>23863698120228130000</td>\n",
       "      <td>{'codigo': 1032, 'nome': 'Recurso Especial'}</td>\n",
       "      <td>{'codigo': 8, 'nome': 'Outros'}</td>\n",
       "      <td>{'codigo': 1, 'nome': 'Eletrônico'}</td>\n",
       "      <td>TJMG</td>\n",
       "      <td>2024-02-11T17:29:59.828Z</td>\n",
       "      <td>G2</td>\n",
       "      <td>2025-06-16T05:53:30.201277270Z</td>\n",
       "      <td>2023-09-05T15:13:20.000Z</td>\n",
       "      <td>TJMG_1032_G2_45131_23863698120228130000</td>\n",
       "      <td>0</td>\n",
       "      <td>{'codigoMunicipioIBGE': 3147006, 'codigo': 451...</td>\n",
       "      <td>[{'codigo': 12501, 'nome': 'Cirurgia'}, {'codi...</td>\n",
       "    </tr>\n",
       "  </tbody>\n",
       "</table>\n",
       "</div>"
      ],
      "text/plain": [
       "         numeroProcesso                                        classe  \\\n",
       "0  08269787520228130000  {'codigo': 1032, 'nome': 'Recurso Especial'}   \n",
       "1  19624280720218130000  {'codigo': 1032, 'nome': 'Recurso Especial'}   \n",
       "2  23863698120228130000  {'codigo': 1032, 'nome': 'Recurso Especial'}   \n",
       "\n",
       "                           sistema                              formato  \\\n",
       "0  {'codigo': 8, 'nome': 'Outros'}  {'codigo': 1, 'nome': 'Eletrônico'}   \n",
       "1  {'codigo': 8, 'nome': 'Outros'}  {'codigo': 1, 'nome': 'Eletrônico'}   \n",
       "2  {'codigo': 8, 'nome': 'Outros'}  {'codigo': 1, 'nome': 'Eletrônico'}   \n",
       "\n",
       "  tribunal dataHoraUltimaAtualizacao grau                      @timestamp  \\\n",
       "0     TJMG  2023-07-30T01:26:23.606Z   G2  2025-06-16T01:29:32.570005493Z   \n",
       "1     TJMG  2023-07-30T01:23:45.279Z   G2  2025-06-16T01:29:02.987771094Z   \n",
       "2     TJMG  2024-02-11T17:29:59.828Z   G2  2025-06-16T05:53:30.201277270Z   \n",
       "\n",
       "            dataAjuizamento                                       id  \\\n",
       "0  2023-06-14T17:54:25.000Z  TJMG_1032_G2_45131_08269787520228130000   \n",
       "1  2022-01-13T11:17:11.000Z  TJMG_1032_G2_45131_19624280720218130000   \n",
       "2  2023-09-05T15:13:20.000Z  TJMG_1032_G2_45131_23863698120228130000   \n",
       "\n",
       "   nivelSigilo                                      orgaoJulgador  \\\n",
       "0            0  {'codigoMunicipioIBGE': 3148004, 'codigo': 451...   \n",
       "1            0  {'codigoMunicipioIBGE': 3123908, 'codigo': 451...   \n",
       "2            0  {'codigoMunicipioIBGE': 3147006, 'codigo': 451...   \n",
       "\n",
       "                                            assuntos  \n",
       "0            [{'codigo': 12503, 'nome': 'Urgência'}]  \n",
       "1  [{'codigo': 12501, 'nome': 'Cirurgia'}, {'codi...  \n",
       "2  [{'codigo': 12501, 'nome': 'Cirurgia'}, {'codi...  "
      ]
     },
     "execution_count": 5,
     "metadata": {},
     "output_type": "execute_result"
    }
   ],
   "source": [
    "listagem = datajud.listar_processos(\n",
    "    assuntos = [12503], \n",
    "    mostrar_movs=False, \n",
    "    tribunal = 'TJMG'\n",
    ")\n",
    "\n",
    "listagem.head(3)"
   ]
  }
 ],
 "metadata": {
  "kernelspec": {
   "display_name": ".venv",
   "language": "python",
   "name": "python3"
  },
  "language_info": {
   "codemirror_mode": {
    "name": "ipython",
    "version": 3
   },
   "file_extension": ".py",
   "mimetype": "text/x-python",
   "name": "python",
   "nbconvert_exporter": "python",
   "pygments_lexer": "ipython3",
   "version": "3.11.11"
  }
 },
 "nbformat": 4,
 "nbformat_minor": 4
}
