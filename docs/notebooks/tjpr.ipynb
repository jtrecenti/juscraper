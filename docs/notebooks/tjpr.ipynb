{
 "cells": [
  {
   "cell_type": "code",
   "execution_count": 1,
   "metadata": {},
   "outputs": [],
   "source": [
    "import juscraper as jus\n",
    "\n",
    "# cria um objeto tjpr\n",
    "tjpr = jus.scraper('tjpr')"
   ]
  },
  {
   "cell_type": "code",
   "execution_count": 2,
   "metadata": {},
   "outputs": [
    {
     "name": "stderr",
     "output_type": "stream",
     "text": [
      "Baixando páginas TJPR: 100%|██████████| 3/3 [00:00<00:00, 12.50it/s]\n"
     ]
    },
    {
     "name": "stdout",
     "output_type": "stream",
     "text": [
      "(30, 5)\n"
     ]
    },
    {
     "data": {
      "text/html": [
       "<div>\n",
       "<style scoped>\n",
       "    .dataframe tbody tr th:only-of-type {\n",
       "        vertical-align: middle;\n",
       "    }\n",
       "\n",
       "    .dataframe tbody tr th {\n",
       "        vertical-align: top;\n",
       "    }\n",
       "\n",
       "    .dataframe thead th {\n",
       "        text-align: right;\n",
       "    }\n",
       "</style>\n",
       "<table border=\"1\" class=\"dataframe\">\n",
       "  <thead>\n",
       "    <tr style=\"text-align: right;\">\n",
       "      <th></th>\n",
       "      <th>processo</th>\n",
       "      <th>orgao_julgador</th>\n",
       "      <th>relator</th>\n",
       "      <th>data_julgamento</th>\n",
       "      <th>ementa</th>\n",
       "    </tr>\n",
       "  </thead>\n",
       "  <tbody>\n",
       "    <tr>\n",
       "      <th>0</th>\n",
       "      <td>0000919-43.2023.8.16.0169</td>\n",
       "      <td>1ª Câmara Criminal - Núcleo de Atuação (Lei Ma...</td>\n",
       "      <td>substituta fernanda karam de chueiri sanches</td>\n",
       "      <td>2025-05-24</td>\n",
       "      <td>Conteúdo pendente de análise e liberação para ...</td>\n",
       "    </tr>\n",
       "    <tr>\n",
       "      <th>1</th>\n",
       "      <td>0001986-62.2017.8.16.0069</td>\n",
       "      <td>1ª Câmara Criminal - Núcleo de Atuação (Lei Ma...</td>\n",
       "      <td>substituta fernanda karam de chueiri sanches</td>\n",
       "      <td>2025-05-24</td>\n",
       "      <td>Conteúdo pendente de análise e liberação para ...</td>\n",
       "    </tr>\n",
       "    <tr>\n",
       "      <th>2</th>\n",
       "      <td>0002335-56.2023.8.16.0101</td>\n",
       "      <td>1ª Câmara Criminal - Núcleo de Atuação (Lei Ma...</td>\n",
       "      <td>substituta fernanda karam de chueiri sanches</td>\n",
       "      <td>2025-05-24</td>\n",
       "      <td>Conteúdo pendente de análise e liberação para ...</td>\n",
       "    </tr>\n",
       "  </tbody>\n",
       "</table>\n",
       "</div>"
      ],
      "text/plain": [
       "                    processo  \\\n",
       "0  0000919-43.2023.8.16.0169   \n",
       "1  0001986-62.2017.8.16.0069   \n",
       "2  0002335-56.2023.8.16.0101   \n",
       "\n",
       "                                      orgao_julgador  \\\n",
       "0  1ª Câmara Criminal - Núcleo de Atuação (Lei Ma...   \n",
       "1  1ª Câmara Criminal - Núcleo de Atuação (Lei Ma...   \n",
       "2  1ª Câmara Criminal - Núcleo de Atuação (Lei Ma...   \n",
       "\n",
       "                                        relator data_julgamento  \\\n",
       "0  substituta fernanda karam de chueiri sanches      2025-05-24   \n",
       "1  substituta fernanda karam de chueiri sanches      2025-05-24   \n",
       "2  substituta fernanda karam de chueiri sanches      2025-05-24   \n",
       "\n",
       "                                              ementa  \n",
       "0  Conteúdo pendente de análise e liberação para ...  \n",
       "1  Conteúdo pendente de análise e liberação para ...  \n",
       "2  Conteúdo pendente de análise e liberação para ...  "
      ]
     },
     "execution_count": 2,
     "metadata": {},
     "output_type": "execute_result"
    }
   ],
   "source": [
    "# baixa dados da jurisprudência\n",
    "dados_cjsg = tjpr.cjsg('direito penal', paginas=range(0,3))\n",
    "\n",
    "print(dados_cjsg.shape)\n",
    "dados_cjsg.head(3)"
   ]
  },
  {
   "cell_type": "code",
   "execution_count": 3,
   "metadata": {},
   "outputs": [
    {
     "name": "stdout",
     "output_type": "stream",
     "text": [
      "DIREITO\n",
      "PENAL\n",
      ". APELAÇÃO CRIMINAL. CRIME DE AMEAÇA NO ÂMBITO DE VIOLÊNCIA DOMÉSTICA. RECURSO DEFENSIVO. ALEGAÇÃO DE EXCLUDENTE DE ILICITUDE E PEDIDO SUBSIDIÁRIO DE DESCLASSIFICAÇÃO PARA CONTRAVENÇÃO\n",
      "P\n"
     ]
    }
   ],
   "source": [
    "print(dados_cjsg['ementa'].iloc[23][:200])"
   ]
  }
 ],
 "metadata": {
  "kernelspec": {
   "display_name": ".venv",
   "language": "python",
   "name": "python3"
  },
  "language_info": {
   "codemirror_mode": {
    "name": "ipython",
    "version": 3
   },
   "file_extension": ".py",
   "mimetype": "text/x-python",
   "name": "python",
   "nbconvert_exporter": "python",
   "pygments_lexer": "ipython3",
   "version": "3.11.11"
  }
 },
 "nbformat": 4,
 "nbformat_minor": 2
}
