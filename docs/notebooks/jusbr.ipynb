{
 "cells": [
  {
   "cell_type": "markdown",
   "metadata": {},
   "source": [
    "# Baixando dados e documentos com o Jus.br \n",
    "\n",
    "Este notebook demonstra como autenticar e obter um token de acesso para o portal JUSBR usando a classe `JUSBR_Scraper`.\n"
   ]
  },
  {
   "cell_type": "code",
   "execution_count": 1,
   "metadata": {},
   "outputs": [],
   "source": [
    "import juscraper as jus\n",
    "import json\n",
    "\n",
    "jusbr = jus.scraper(\"jusbr\")"
   ]
  },
  {
   "cell_type": "markdown",
   "metadata": {},
   "source": [
    "## Autenticação manual via gov.br\n",
    "\n",
    "1. Acesse https://www.jus.br\n",
    "2. Faça login usando o gov.br\n",
    "3. Entre na página <https://portaldeservicos.pdpj.jus.br/consulta> (ou clique no botão 'Consultar processo', que aparece após o login)\n",
    "4. Na nova página, abra a aba Network do navegador (F12 ou 'Inspecionar elemento')\n",
    "5. Atualize a página (F5 ou ctrl+R ou no botão atualizar)\n",
    "6. Nas requisições que vão aparecer, procure a requisição que tem nome 'token'. Clique nela.\n",
    "7. Na tela ao lado, clique em 'Resposta'.\n",
    "8. Selecione e copie o campo 'access_token' que aparece lá.\n"
   ]
  },
  {
   "cell_type": "code",
   "execution_count": 2,
   "metadata": {},
   "outputs": [],
   "source": [
    "import os\n",
    "from dotenv import load_dotenv\n",
    "from getpass import getpass\n",
    "\n",
    "load_dotenv()\n",
    "\n",
    "access_token = os.environ.get(\"JUSBR_ACCESS_TOKEN\")\n",
    "if access_token is None:\n",
    "    # input como senha oculta\n",
    "    access_token = getpass(\"Digite o token JWT: \")\n"
   ]
  },
  {
   "cell_type": "code",
   "execution_count": 3,
   "metadata": {},
   "outputs": [
    {
     "data": {
      "text/plain": [
       "True"
      ]
     },
     "execution_count": 3,
     "metadata": {},
     "output_type": "execute_result"
    }
   ],
   "source": [
    "\n",
    "jusbr.auth(token=access_token)"
   ]
  },
  {
   "cell_type": "markdown",
   "metadata": {},
   "source": [
    "## Baixando metadados dos processos"
   ]
  },
  {
   "cell_type": "markdown",
   "metadata": {},
   "source": [
    "Baixando uma lista de casos:"
   ]
  },
  {
   "cell_type": "code",
   "execution_count": 7,
   "metadata": {},
   "outputs": [
    {
     "data": {
      "text/html": [
       "<div>\n",
       "<style scoped>\n",
       "    .dataframe tbody tr th:only-of-type {\n",
       "        vertical-align: middle;\n",
       "    }\n",
       "\n",
       "    .dataframe tbody tr th {\n",
       "        vertical-align: top;\n",
       "    }\n",
       "\n",
       "    .dataframe thead th {\n",
       "        text-align: right;\n",
       "    }\n",
       "</style>\n",
       "<table border=\"1\" class=\"dataframe\">\n",
       "  <thead>\n",
       "    <tr style=\"text-align: right;\">\n",
       "      <th></th>\n",
       "      <th>processo</th>\n",
       "      <th>numeroProcesso</th>\n",
       "      <th>idCodexTribunal</th>\n",
       "      <th>detalhes</th>\n",
       "    </tr>\n",
       "  </thead>\n",
       "  <tbody>\n",
       "    <tr>\n",
       "      <th>0</th>\n",
       "      <td>30053171220258060000</td>\n",
       "      <td>3005317-12.2025.8.06.0000</td>\n",
       "      <td>None</td>\n",
       "      <td>{'nivelSigilo': 0, 'siglaTribunal': 'TJCE', 'n...</td>\n",
       "    </tr>\n",
       "  </tbody>\n",
       "</table>\n",
       "</div>"
      ],
      "text/plain": [
       "               processo             numeroProcesso idCodexTribunal  \\\n",
       "0  30053171220258060000  3005317-12.2025.8.06.0000            None   \n",
       "\n",
       "                                            detalhes  \n",
       "0  {'nivelSigilo': 0, 'siglaTribunal': 'TJCE', 'n...  "
      ]
     },
     "execution_count": 7,
     "metadata": {},
     "output_type": "execute_result"
    }
   ],
   "source": [
    "processos = ['3005317-12.2025.8.06.0000']\n",
    "\n",
    "resultados = jusbr.cpopg(processos)\n",
    "\n",
    "resultados"
   ]
  },
  {
   "cell_type": "code",
   "execution_count": 8,
   "metadata": {},
   "outputs": [
    {
     "name": "stdout",
     "output_type": "stream",
     "text": [
      "{\n",
      "  \"sigla\": \"G2\",\n",
      "  \"nome\": \"2° Grau\",\n",
      "  \"numero\": 2\n",
      "}\n"
     ]
    }
   ],
   "source": [
    "result_list = resultados['detalhes'].iloc[0]\n",
    "\n",
    "print(json.dumps(result_list['tramitacaoAtual']['grau'], indent=2, ensure_ascii=False))"
   ]
  },
  {
   "cell_type": "markdown",
   "metadata": {},
   "source": [
    "Se quiser visualizar o texto do caso:"
   ]
  },
  {
   "cell_type": "markdown",
   "metadata": {},
   "source": [
    "## Baixando autos dos processos"
   ]
  },
  {
   "cell_type": "code",
   "execution_count": 9,
   "metadata": {},
   "outputs": [
    {
     "name": "stdout",
     "output_type": "stream",
     "text": [
      "(1, 18)\n"
     ]
    },
    {
     "data": {
      "text/html": [
       "<div>\n",
       "<style scoped>\n",
       "    .dataframe tbody tr th:only-of-type {\n",
       "        vertical-align: middle;\n",
       "    }\n",
       "\n",
       "    .dataframe tbody tr th {\n",
       "        vertical-align: top;\n",
       "    }\n",
       "\n",
       "    .dataframe thead th {\n",
       "        text-align: right;\n",
       "    }\n",
       "</style>\n",
       "<table border=\"1\" class=\"dataframe\">\n",
       "  <thead>\n",
       "    <tr style=\"text-align: right;\">\n",
       "      <th></th>\n",
       "      <th>numero_processo</th>\n",
       "      <th>idCodex</th>\n",
       "      <th>sequencia</th>\n",
       "      <th>nome</th>\n",
       "      <th>tipo</th>\n",
       "      <th>dataHoraJuntada</th>\n",
       "      <th>nivelSigilo</th>\n",
       "      <th>hrefTexto</th>\n",
       "      <th>hrefBinario</th>\n",
       "      <th>texto</th>\n",
       "      <th>_raw_text_api</th>\n",
       "      <th>_raw_binary_api</th>\n",
       "      <th>arquivo</th>\n",
       "      <th>idOrigem</th>\n",
       "      <th>idDocumento</th>\n",
       "      <th>descricao</th>\n",
       "      <th>tipoDocumento</th>\n",
       "      <th>dataJuntada</th>\n",
       "    </tr>\n",
       "  </thead>\n",
       "  <tbody>\n",
       "    <tr>\n",
       "      <th>0</th>\n",
       "      <td>3005317-12.2025.8.06.0000</td>\n",
       "      <td>25491324303</td>\n",
       "      <td>4</td>\n",
       "      <td>Decisão.html</td>\n",
       "      <td>{'codigo': 404, 'nome': 'Decisão', 'idCodex': ...</td>\n",
       "      <td>2025-05-29T18:02:53.803</td>\n",
       "      <td>PUBLICO</td>\n",
       "      <td>/processos/3005317-12.2025.8.06.0000/documento...</td>\n",
       "      <td>/processos/3005317-12.2025.8.06.0000/documento...</td>\n",
       "      <td>ESTADO DO CEARÁ\\n \\n  PODER JUDICIÁRIO\\n \\n  T...</td>\n",
       "      <td>\\nESTADO DO CEARÁ\\n \\n  PODER JUDICIÁRIO\\n \\n ...</td>\n",
       "      <td>b'&lt;p&gt;&lt;span style=\"font-family: arial, helvetic...</td>\n",
       "      <td>{'tipo': 'text/html', 'quantidadePaginas': 0, ...</td>\n",
       "      <td>21009045</td>\n",
       "      <td>None</td>\n",
       "      <td>None</td>\n",
       "      <td>None</td>\n",
       "      <td>None</td>\n",
       "    </tr>\n",
       "  </tbody>\n",
       "</table>\n",
       "</div>"
      ],
      "text/plain": [
       "             numero_processo      idCodex  sequencia          nome  \\\n",
       "0  3005317-12.2025.8.06.0000  25491324303          4  Decisão.html   \n",
       "\n",
       "                                                tipo          dataHoraJuntada  \\\n",
       "0  {'codigo': 404, 'nome': 'Decisão', 'idCodex': ...  2025-05-29T18:02:53.803   \n",
       "\n",
       "  nivelSigilo                                          hrefTexto  \\\n",
       "0     PUBLICO  /processos/3005317-12.2025.8.06.0000/documento...   \n",
       "\n",
       "                                         hrefBinario  \\\n",
       "0  /processos/3005317-12.2025.8.06.0000/documento...   \n",
       "\n",
       "                                               texto  \\\n",
       "0  ESTADO DO CEARÁ\\n \\n  PODER JUDICIÁRIO\\n \\n  T...   \n",
       "\n",
       "                                       _raw_text_api  \\\n",
       "0  \\nESTADO DO CEARÁ\\n \\n  PODER JUDICIÁRIO\\n \\n ...   \n",
       "\n",
       "                                     _raw_binary_api  \\\n",
       "0  b'<p><span style=\"font-family: arial, helvetic...   \n",
       "\n",
       "                                             arquivo  idOrigem idDocumento  \\\n",
       "0  {'tipo': 'text/html', 'quantidadePaginas': 0, ...  21009045        None   \n",
       "\n",
       "  descricao tipoDocumento dataJuntada  \n",
       "0      None          None        None  "
      ]
     },
     "execution_count": 9,
     "metadata": {},
     "output_type": "execute_result"
    }
   ],
   "source": [
    "df_docs = jusbr.download_documents(resultados)\n",
    "\n",
    "print(df_docs.shape)\n",
    "df_docs.head(3)"
   ]
  },
  {
   "cell_type": "code",
   "execution_count": 10,
   "metadata": {},
   "outputs": [
    {
     "data": {
      "text/html": [
       "<div>\n",
       "<style scoped>\n",
       "    .dataframe tbody tr th:only-of-type {\n",
       "        vertical-align: middle;\n",
       "    }\n",
       "\n",
       "    .dataframe tbody tr th {\n",
       "        vertical-align: top;\n",
       "    }\n",
       "\n",
       "    .dataframe thead th {\n",
       "        text-align: right;\n",
       "    }\n",
       "</style>\n",
       "<table border=\"1\" class=\"dataframe\">\n",
       "  <thead>\n",
       "    <tr style=\"text-align: right;\">\n",
       "      <th></th>\n",
       "      <th>numero_processo</th>\n",
       "      <th>idCodex</th>\n",
       "      <th>sequencia</th>\n",
       "      <th>nome</th>\n",
       "      <th>tipo</th>\n",
       "      <th>dataHoraJuntada</th>\n",
       "      <th>nivelSigilo</th>\n",
       "      <th>hrefTexto</th>\n",
       "      <th>hrefBinario</th>\n",
       "      <th>texto</th>\n",
       "      <th>_raw_text_api</th>\n",
       "      <th>_raw_binary_api</th>\n",
       "      <th>arquivo</th>\n",
       "      <th>idOrigem</th>\n",
       "      <th>idDocumento</th>\n",
       "      <th>descricao</th>\n",
       "      <th>tipoDocumento</th>\n",
       "      <th>dataJuntada</th>\n",
       "    </tr>\n",
       "  </thead>\n",
       "  <tbody>\n",
       "    <tr>\n",
       "      <th>0</th>\n",
       "      <td>3005317-12.2025.8.06.0000</td>\n",
       "      <td>25491324303</td>\n",
       "      <td>4</td>\n",
       "      <td>Decisão.html</td>\n",
       "      <td>{'codigo': 404, 'nome': 'Decisão', 'idCodex': ...</td>\n",
       "      <td>2025-05-29T18:02:53.803</td>\n",
       "      <td>PUBLICO</td>\n",
       "      <td>/processos/3005317-12.2025.8.06.0000/documento...</td>\n",
       "      <td>/processos/3005317-12.2025.8.06.0000/documento...</td>\n",
       "      <td>ESTADO DO CEARÁ\\n \\n  PODER JUDICIÁRIO\\n \\n  T...</td>\n",
       "      <td>\\nESTADO DO CEARÁ\\n \\n  PODER JUDICIÁRIO\\n \\n ...</td>\n",
       "      <td>b'&lt;p&gt;&lt;span style=\"font-family: arial, helvetic...</td>\n",
       "      <td>{'tipo': 'text/html', 'quantidadePaginas': 0, ...</td>\n",
       "      <td>21009045</td>\n",
       "      <td>None</td>\n",
       "      <td>None</td>\n",
       "      <td>None</td>\n",
       "      <td>None</td>\n",
       "    </tr>\n",
       "  </tbody>\n",
       "</table>\n",
       "</div>"
      ],
      "text/plain": [
       "             numero_processo      idCodex  sequencia          nome  \\\n",
       "0  3005317-12.2025.8.06.0000  25491324303          4  Decisão.html   \n",
       "\n",
       "                                                tipo          dataHoraJuntada  \\\n",
       "0  {'codigo': 404, 'nome': 'Decisão', 'idCodex': ...  2025-05-29T18:02:53.803   \n",
       "\n",
       "  nivelSigilo                                          hrefTexto  \\\n",
       "0     PUBLICO  /processos/3005317-12.2025.8.06.0000/documento...   \n",
       "\n",
       "                                         hrefBinario  \\\n",
       "0  /processos/3005317-12.2025.8.06.0000/documento...   \n",
       "\n",
       "                                               texto  \\\n",
       "0  ESTADO DO CEARÁ\\n \\n  PODER JUDICIÁRIO\\n \\n  T...   \n",
       "\n",
       "                                       _raw_text_api  \\\n",
       "0  \\nESTADO DO CEARÁ\\n \\n  PODER JUDICIÁRIO\\n \\n ...   \n",
       "\n",
       "                                     _raw_binary_api  \\\n",
       "0  b'<p><span style=\"font-family: arial, helvetic...   \n",
       "\n",
       "                                             arquivo  idOrigem idDocumento  \\\n",
       "0  {'tipo': 'text/html', 'quantidadePaginas': 0, ...  21009045        None   \n",
       "\n",
       "  descricao tipoDocumento dataJuntada  \n",
       "0      None          None        None  "
      ]
     },
     "execution_count": 10,
     "metadata": {},
     "output_type": "execute_result"
    }
   ],
   "source": [
    "df_docs.head(3)"
   ]
  },
  {
   "cell_type": "code",
   "execution_count": 8,
   "metadata": {},
   "outputs": [
    {
     "name": "stdout",
     "output_type": "stream",
     "text": [
      "TRIBUNAL DE JUSTIÇA DO ESTADO DE SÃO PAULO\n",
      "COMARCA de São Vicente\n",
      "Foro de São Vicente\n",
      "1ª Vara Criminal\n",
      "Rua Jacob Emmerich, 1367, Sala 13, Parque Bitarú - CEP 11310-906, Fone: (13) 2102-6454, São Vicen\n"
     ]
    }
   ],
   "source": [
    "print(df_docs['texto'][0][:200])"
   ]
  },
  {
   "cell_type": "markdown",
   "metadata": {},
   "source": [
    "## Baixando uma lista grande de processos\n",
    "\n",
    "Se a lista de processos é muito grande, pode ser uma boa prática baixar um processo por vez e salvar os resultados em um arquivo parquet, por exemplo.\n",
    "\n",
    "No script abaixo, criamos uma pasta dentro da pasta atual, chamada jusbr/cpopg/. Ali dentro, para cada processo, criamos uma pasta com o número do processo e salvamos 2 arquivos: 1 com os metadados daquele processo e 1 com os textos dos documentos. A chave para juntar as duas bases é o número do processo."
   ]
  },
  {
   "cell_type": "code",
   "execution_count": 9,
   "metadata": {},
   "outputs": [],
   "source": [
    "import os\n",
    "import pandas as pd\n",
    "from tqdm import tqdm\n",
    "from joblib import Parallel, delayed\n",
    "\n",
    "processos = ['15006452620228260536']\n",
    "\n",
    "resultados = jusbr.cpopg(processos)"
   ]
  },
  {
   "cell_type": "code",
   "execution_count": 10,
   "metadata": {},
   "outputs": [
    {
     "name": "stdout",
     "output_type": "stream",
     "text": [
      "Baixando documentos do processo 15006452620228260536\n",
      "\n",
      "Baixando autos do processo 15006452620228260536\n",
      "\n"
     ]
    }
   ],
   "source": [
    "\n",
    "def download_document(proc_no, jusbr, verbose=True):\n",
    "    if verbose:\n",
    "        print(f\"Baixando documentos do processo {proc_no}\\n\")\n",
    "    \n",
    "    resultado = jusbr.cpopg([proc_no])\n",
    "    row = resultado.iloc[0]\n",
    "    processo = row['processo']\n",
    "    row_df = pd.DataFrame([row])\n",
    "    # cria a pasta\n",
    "    process_path = os.path.join('jusbr/cpopg', processo)\n",
    "    os.makedirs(process_path, exist_ok=True)\n",
    "    \n",
    "    # baixa documentos do processo\n",
    "    if verbose:\n",
    "        print(f\"Baixando autos do processo {proc_no}\\n\")\n",
    "    \n",
    "    df_docs = jusbr.download_documents(row_df)\n",
    "    #df_docs = pd.DataFrame()\n",
    "    # salva documentos\n",
    "    df_docs.to_parquet(os.path.join(process_path, 'documents.parquet'), index=False)\n",
    "    # salva metadata\n",
    "    row_df.to_parquet(os.path.join(process_path, 'metadata.parquet'), index=False)\n",
    "\n",
    "for proc_no in processos:\n",
    "    download_document(proc_no, jusbr)"
   ]
  }
 ],
 "metadata": {
  "kernelspec": {
   "display_name": ".venv",
   "language": "python",
   "name": "python3"
  },
  "language_info": {
   "codemirror_mode": {
    "name": "ipython",
    "version": 3
   },
   "file_extension": ".py",
   "mimetype": "text/x-python",
   "name": "python",
   "nbconvert_exporter": "python",
   "pygments_lexer": "ipython3",
   "version": "3.11.11"
  }
 },
 "nbformat": 4,
 "nbformat_minor": 2
}
