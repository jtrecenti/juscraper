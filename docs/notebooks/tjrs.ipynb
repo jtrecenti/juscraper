{
 "cells": [
  {
   "cell_type": "code",
   "execution_count": 1,
   "metadata": {},
   "outputs": [],
   "source": [
    "import juscraper as jus\n",
    "\n",
    "# cria um objeto tjrs\n",
    "tjrs = jus.scraper('tjrs')"
   ]
  },
  {
   "cell_type": "code",
   "execution_count": 2,
   "metadata": {},
   "outputs": [
    {
     "name": "stderr",
     "output_type": "stream",
     "text": [
      "Baixando páginas TJRS: 100%|██████████| 3/3 [00:05<00:00,  1.90s/it]"
     ]
    },
    {
     "name": "stdout",
     "output_type": "stream",
     "text": [
      "(30, 33)\n"
     ]
    },
    {
     "name": "stderr",
     "output_type": "stream",
     "text": [
      "\n"
     ]
    },
    {
     "data": {
      "text/html": [
       "<div>\n",
       "<style scoped>\n",
       "    .dataframe tbody tr th:only-of-type {\n",
       "        vertical-align: middle;\n",
       "    }\n",
       "\n",
       "    .dataframe tbody tr th {\n",
       "        vertical-align: top;\n",
       "    }\n",
       "\n",
       "    .dataframe thead th {\n",
       "        text-align: right;\n",
       "    }\n",
       "</style>\n",
       "<table border=\"1\" class=\"dataframe\">\n",
       "  <thead>\n",
       "    <tr style=\"text-align: right;\">\n",
       "      <th></th>\n",
       "      <th>processo</th>\n",
       "      <th>relator</th>\n",
       "      <th>orgao_julgador</th>\n",
       "      <th>data_julgamento</th>\n",
       "      <th>data_publicacao</th>\n",
       "      <th>classe_cnj</th>\n",
       "      <th>assunto_cnj</th>\n",
       "      <th>tribunal</th>\n",
       "      <th>tipo_processo</th>\n",
       "      <th>url</th>\n",
       "      <th>...</th>\n",
       "      <th>cod_org_julg</th>\n",
       "      <th>cod_redator</th>\n",
       "      <th>cod_tipo_documento</th>\n",
       "      <th>cod_tribunal</th>\n",
       "      <th>cod_assunto_cnj</th>\n",
       "      <th>cod_relator</th>\n",
       "      <th>cod_recurso</th>\n",
       "      <th>tipo_documento</th>\n",
       "      <th>dthr_criacao</th>\n",
       "      <th>_version_</th>\n",
       "    </tr>\n",
       "  </thead>\n",
       "  <tbody>\n",
       "    <tr>\n",
       "      <th>0</th>\n",
       "      <td>52627181720248217000</td>\n",
       "      <td>Deborah Coleto Assumpção de Moraes</td>\n",
       "      <td>Décima Sexta Câmara Cível</td>\n",
       "      <td>2025-05-08</td>\n",
       "      <td>2025-05-08</td>\n",
       "      <td>Agravo de Instrumento</td>\n",
       "      <td>Gestão de Negócios</td>\n",
       "      <td>Tribunal de Justiça do RS</td>\n",
       "      <td>Agravo de Instrumento</td>\n",
       "      <td>https://www.tjrs.jus.br/buscas/jurisprudencia/...</td>\n",
       "      <td>...</td>\n",
       "      <td>16</td>\n",
       "      <td>652</td>\n",
       "      <td>1</td>\n",
       "      <td>3</td>\n",
       "      <td>7713.0</td>\n",
       "      <td>652</td>\n",
       "      <td>296</td>\n",
       "      <td>Acordao</td>\n",
       "      <td>2025-05-12 08:31:24.0</td>\n",
       "      <td>1831916254777049088</td>\n",
       "    </tr>\n",
       "    <tr>\n",
       "      <th>1</th>\n",
       "      <td>50134755820238210005</td>\n",
       "      <td>Carmem Maria Azambuja Farias</td>\n",
       "      <td>Décima Quinta Câmara Cível</td>\n",
       "      <td>2025-05-07</td>\n",
       "      <td>2025-05-14</td>\n",
       "      <td>Apelação</td>\n",
       "      <td>Bancários</td>\n",
       "      <td>Tribunal de Justiça do RS</td>\n",
       "      <td>Apelação Cível</td>\n",
       "      <td>https://www.tjrs.jus.br/buscas/jurisprudencia/...</td>\n",
       "      <td>...</td>\n",
       "      <td>15</td>\n",
       "      <td>697</td>\n",
       "      <td>1</td>\n",
       "      <td>3</td>\n",
       "      <td>7752.0</td>\n",
       "      <td>697</td>\n",
       "      <td>224</td>\n",
       "      <td>Acordao</td>\n",
       "      <td>Tue May 20 08:30:59 GMT-03:00 2025</td>\n",
       "      <td>1832640764786507776</td>\n",
       "    </tr>\n",
       "    <tr>\n",
       "      <th>2</th>\n",
       "      <td>50018309020248210008</td>\n",
       "      <td>Clovis Moacyr Mattana Ramos</td>\n",
       "      <td>Décima Quinta Câmara Cível</td>\n",
       "      <td>2025-05-07</td>\n",
       "      <td>2025-05-15</td>\n",
       "      <td>Apelação</td>\n",
       "      <td>None</td>\n",
       "      <td>Tribunal de Justiça do RS</td>\n",
       "      <td>Apelação Cível</td>\n",
       "      <td>https://www.tjrs.jus.br/buscas/jurisprudencia/...</td>\n",
       "      <td>...</td>\n",
       "      <td>15</td>\n",
       "      <td>439</td>\n",
       "      <td>1</td>\n",
       "      <td>3</td>\n",
       "      <td>NaN</td>\n",
       "      <td>439</td>\n",
       "      <td>224</td>\n",
       "      <td>Acordao</td>\n",
       "      <td>Tue May 20 08:32:06 GMT-03:00 2025</td>\n",
       "      <td>1832640861230333952</td>\n",
       "    </tr>\n",
       "  </tbody>\n",
       "</table>\n",
       "<p>3 rows × 33 columns</p>\n",
       "</div>"
      ],
      "text/plain": [
       "               processo                             relator  \\\n",
       "0  52627181720248217000  Deborah Coleto Assumpção de Moraes   \n",
       "1  50134755820238210005        Carmem Maria Azambuja Farias   \n",
       "2  50018309020248210008         Clovis Moacyr Mattana Ramos   \n",
       "\n",
       "               orgao_julgador data_julgamento data_publicacao  \\\n",
       "0   Décima Sexta Câmara Cível      2025-05-08      2025-05-08   \n",
       "1  Décima Quinta Câmara Cível      2025-05-07      2025-05-14   \n",
       "2  Décima Quinta Câmara Cível      2025-05-07      2025-05-15   \n",
       "\n",
       "              classe_cnj         assunto_cnj                   tribunal  \\\n",
       "0  Agravo de Instrumento  Gestão de Negócios  Tribunal de Justiça do RS   \n",
       "1               Apelação           Bancários  Tribunal de Justiça do RS   \n",
       "2               Apelação                None  Tribunal de Justiça do RS   \n",
       "\n",
       "           tipo_processo                                                url  \\\n",
       "0  Agravo de Instrumento  https://www.tjrs.jus.br/buscas/jurisprudencia/...   \n",
       "1         Apelação Cível  https://www.tjrs.jus.br/buscas/jurisprudencia/...   \n",
       "2         Apelação Cível  https://www.tjrs.jus.br/buscas/jurisprudencia/...   \n",
       "\n",
       "   ... cod_org_julg cod_redator  cod_tipo_documento cod_tribunal  \\\n",
       "0  ...           16         652                   1            3   \n",
       "1  ...           15         697                   1            3   \n",
       "2  ...           15         439                   1            3   \n",
       "\n",
       "  cod_assunto_cnj cod_relator cod_recurso  tipo_documento  \\\n",
       "0          7713.0         652         296         Acordao   \n",
       "1          7752.0         697         224         Acordao   \n",
       "2             NaN         439         224         Acordao   \n",
       "\n",
       "                         dthr_criacao            _version_  \n",
       "0               2025-05-12 08:31:24.0  1831916254777049088  \n",
       "1  Tue May 20 08:30:59 GMT-03:00 2025  1832640764786507776  \n",
       "2  Tue May 20 08:32:06 GMT-03:00 2025  1832640861230333952  \n",
       "\n",
       "[3 rows x 33 columns]"
      ]
     },
     "execution_count": 2,
     "metadata": {},
     "output_type": "execute_result"
    }
   ],
   "source": [
    "# baixa dados da jurisprudência\n",
    "dados_cjsg = tjrs.cjsg('golpe do pix', paginas=range(0,3))\n",
    "\n",
    "print(dados_cjsg.shape)\n",
    "dados_cjsg.head(3)"
   ]
  },
  {
   "cell_type": "code",
   "execution_count": 6,
   "metadata": {},
   "outputs": [],
   "source": [
    "import base64\n",
    "from IPython.display import display, HTML\n",
    "\n",
    "txt = dados_cjsg['documento_text'].iloc[0]\n",
    "decoded_bytes = base64.b64decode(txt)\n",
    "decoded_str = decoded_bytes.decode('latin1', errors='replace')\n",
    "\n",
    "#display(HTML(decoded_str))"
   ]
  },
  {
   "cell_type": "code",
   "execution_count": 4,
   "metadata": {},
   "outputs": [
    {
     "data": {
      "text/plain": [
       "Index(['processo', 'relator', 'orgao_julgador', 'data_julgamento',\n",
       "       'data_publicacao', 'classe_cnj', 'assunto_cnj', 'tribunal',\n",
       "       'tipo_processo', 'url', 'ementa', 'documento_text', 'documento_tiff',\n",
       "       'ementa_text', 'mes_ano_publicacao', 'origem', 'secao',\n",
       "       'ano_julgamento', 'nome_relator', 'ind_segredo_justica',\n",
       "       'ementa_referencia', 'cod_ementa', 'cod_classe_cnj', 'cod_org_julg',\n",
       "       'cod_redator', 'cod_tipo_documento', 'cod_tribunal', 'cod_assunto_cnj',\n",
       "       'cod_relator', 'cod_recurso', 'tipo_documento', 'dthr_criacao',\n",
       "       '_version_'],\n",
       "      dtype='object')"
      ]
     },
     "execution_count": 4,
     "metadata": {},
     "output_type": "execute_result"
    }
   ],
   "source": [
    "dados_cjsg.columns"
   ]
  },
  {
   "cell_type": "code",
   "execution_count": 5,
   "metadata": {},
   "outputs": [
    {
     "data": {
      "text/plain": [
       "'https://www.tjrs.jus.br/buscas/jurisprudencia/?numero_processo=52627181720248217000'"
      ]
     },
     "execution_count": 5,
     "metadata": {},
     "output_type": "execute_result"
    }
   ],
   "source": [
    "dados_cjsg['url'].iloc[0]"
   ]
  }
 ],
 "metadata": {
  "kernelspec": {
   "display_name": ".venv",
   "language": "python",
   "name": "python3"
  },
  "language_info": {
   "codemirror_mode": {
    "name": "ipython",
    "version": 3
   },
   "file_extension": ".py",
   "mimetype": "text/x-python",
   "name": "python",
   "nbconvert_exporter": "python",
   "pygments_lexer": "ipython3",
   "version": "3.11.11"
  }
 },
 "nbformat": 4,
 "nbformat_minor": 2
}
