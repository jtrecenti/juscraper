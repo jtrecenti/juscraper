{
 "cells": [
  {
   "cell_type": "markdown",
   "metadata": {},
   "source": [
    "# Exemplo de uso\n",
    "\n",
    "Para usar o juscraper, rode algo assim:"
   ]
  },
  {
   "cell_type": "code",
   "execution_count": 1,
   "metadata": {},
   "outputs": [],
   "source": [
    "import juscraper as jus\n",
    "\n",
    "# cria um objeto datajud\n",
    "datajud = jus.scraper('datajud', verbose=False)"
   ]
  },
  {
   "cell_type": "code",
   "execution_count": 2,
   "metadata": {},
   "outputs": [
    {
     "data": {
      "application/vnd.jupyter.widget-view+json": {
       "model_id": "f4bf0144b5014448bee4b8a33826cc38",
       "version_major": 2,
       "version_minor": 0
      },
      "text/plain": [
       "Paginando api_publica_tjsp: 0 página [00:00, ? página/s]"
      ]
     },
     "metadata": {},
     "output_type": "display_data"
    },
    {
     "data": {
      "application/vnd.jupyter.widget-view+json": {
       "model_id": "7c584bbd10d94a469b34a768aa578155",
       "version_major": 2,
       "version_minor": 0
      },
      "text/plain": [
       "Paginando api_publica_tjrj: 0 página [00:00, ? página/s]"
      ]
     },
     "metadata": {},
     "output_type": "display_data"
    },
    {
     "name": "stdout",
     "output_type": "stream",
     "text": [
      "(2, 14)\n"
     ]
    },
    {
     "data": {
      "text/html": [
       "<div>\n",
       "<style scoped>\n",
       "    .dataframe tbody tr th:only-of-type {\n",
       "        vertical-align: middle;\n",
       "    }\n",
       "\n",
       "    .dataframe tbody tr th {\n",
       "        vertical-align: top;\n",
       "    }\n",
       "\n",
       "    .dataframe thead th {\n",
       "        text-align: right;\n",
       "    }\n",
       "</style>\n",
       "<table border=\"1\" class=\"dataframe\">\n",
       "  <thead>\n",
       "    <tr style=\"text-align: right;\">\n",
       "      <th></th>\n",
       "      <th>classe</th>\n",
       "      <th>numeroProcesso</th>\n",
       "      <th>sistema</th>\n",
       "      <th>formato</th>\n",
       "      <th>tribunal</th>\n",
       "      <th>dataHoraUltimaAtualizacao</th>\n",
       "      <th>grau</th>\n",
       "      <th>@timestamp</th>\n",
       "      <th>dataAjuizamento</th>\n",
       "      <th>movimentos</th>\n",
       "      <th>id</th>\n",
       "      <th>nivelSigilo</th>\n",
       "      <th>orgaoJulgador</th>\n",
       "      <th>assuntos</th>\n",
       "    </tr>\n",
       "  </thead>\n",
       "  <tbody>\n",
       "    <tr>\n",
       "      <th>0</th>\n",
       "      <td>{'codigo': 241, 'nome': 'Petição Cível'}</td>\n",
       "      <td>10092161720238260016</td>\n",
       "      <td>{'codigo': 3, 'nome': 'SAJ'}</td>\n",
       "      <td>{'codigo': 1, 'nome': 'Eletrônico'}</td>\n",
       "      <td>TJSP</td>\n",
       "      <td>2025-01-10T17:30:41.793Z</td>\n",
       "      <td>JE</td>\n",
       "      <td>2025-02-07T17:38:06.012900843Z</td>\n",
       "      <td>2023-04-26T11:27:34.000Z</td>\n",
       "      <td>[{'complementosTabelados': [{'codigo': 2, 'val...</td>\n",
       "      <td>TJSP_JE_10092161720238260016</td>\n",
       "      <td>0</td>\n",
       "      <td>{'codigo': 10608, 'nome': '02 VARA JUIZADO ESP...</td>\n",
       "      <td>[{'codigo': 8893, 'nome': 'Atos Processuais'}]</td>\n",
       "    </tr>\n",
       "    <tr>\n",
       "      <th>1</th>\n",
       "      <td>{'codigo': 202, 'nome': 'Agravo de Instrumento'}</td>\n",
       "      <td>00665754820248190000</td>\n",
       "      <td>{'codigo': 8, 'nome': 'Outros'}</td>\n",
       "      <td>{'codigo': 1, 'nome': 'Eletrônico'}</td>\n",
       "      <td>TJRJ</td>\n",
       "      <td>2025-04-06T18:20:28.604Z</td>\n",
       "      <td>G2</td>\n",
       "      <td>2025-05-01T04:14:14.877152291Z</td>\n",
       "      <td>2024-08-16T15:07:06.000Z</td>\n",
       "      <td>[{'complementosTabelados': [{'codigo': 4, 'val...</td>\n",
       "      <td>TJRJ_G2_00665754820248190000</td>\n",
       "      <td>0</td>\n",
       "      <td>{'codigoMunicipioIBGE': 3304557, 'codigo': 856...</td>\n",
       "      <td>[{'codigo': 10499, 'nome': 'Programa de Comput...</td>\n",
       "    </tr>\n",
       "  </tbody>\n",
       "</table>\n",
       "</div>"
      ],
      "text/plain": [
       "                                             classe        numeroProcesso  \\\n",
       "0          {'codigo': 241, 'nome': 'Petição Cível'}  10092161720238260016   \n",
       "1  {'codigo': 202, 'nome': 'Agravo de Instrumento'}  00665754820248190000   \n",
       "\n",
       "                           sistema                              formato  \\\n",
       "0     {'codigo': 3, 'nome': 'SAJ'}  {'codigo': 1, 'nome': 'Eletrônico'}   \n",
       "1  {'codigo': 8, 'nome': 'Outros'}  {'codigo': 1, 'nome': 'Eletrônico'}   \n",
       "\n",
       "  tribunal dataHoraUltimaAtualizacao grau                      @timestamp  \\\n",
       "0     TJSP  2025-01-10T17:30:41.793Z   JE  2025-02-07T17:38:06.012900843Z   \n",
       "1     TJRJ  2025-04-06T18:20:28.604Z   G2  2025-05-01T04:14:14.877152291Z   \n",
       "\n",
       "            dataAjuizamento  \\\n",
       "0  2023-04-26T11:27:34.000Z   \n",
       "1  2024-08-16T15:07:06.000Z   \n",
       "\n",
       "                                          movimentos  \\\n",
       "0  [{'complementosTabelados': [{'codigo': 2, 'val...   \n",
       "1  [{'complementosTabelados': [{'codigo': 4, 'val...   \n",
       "\n",
       "                             id  nivelSigilo  \\\n",
       "0  TJSP_JE_10092161720238260016            0   \n",
       "1  TJRJ_G2_00665754820248190000            0   \n",
       "\n",
       "                                       orgaoJulgador  \\\n",
       "0  {'codigo': 10608, 'nome': '02 VARA JUIZADO ESP...   \n",
       "1  {'codigoMunicipioIBGE': 3304557, 'codigo': 856...   \n",
       "\n",
       "                                            assuntos  \n",
       "0     [{'codigo': 8893, 'nome': 'Atos Processuais'}]  \n",
       "1  [{'codigo': 10499, 'nome': 'Programa de Comput...  "
      ]
     },
     "execution_count": 2,
     "metadata": {},
     "output_type": "execute_result"
    }
   ],
   "source": [
    "\n",
    "# lista os processos\n",
    "processos = ['10092161720238260016', '00665754820248190000']\n",
    "listagem = datajud.listar_processos(numero_processo=processos, mostrar_movs=True)\n",
    "\n",
    "print(listagem.shape)\n",
    "listagem.head(3)"
   ]
  },
  {
   "cell_type": "code",
   "execution_count": 3,
   "metadata": {},
   "outputs": [
    {
     "data": {
      "application/vnd.jupyter.widget-view+json": {
       "model_id": "d785197331574a1484f9b39faae7d24a",
       "version_major": 2,
       "version_minor": 0
      },
      "text/plain": [
       "Paginando api_publica_tjsp: 0 página [00:00, ? página/s]"
      ]
     },
     "metadata": {},
     "output_type": "display_data"
    },
    {
     "data": {
      "application/vnd.jupyter.widget-view+json": {
       "model_id": "cd26ce0313804f738f5565ca3ba5a283",
       "version_major": 2,
       "version_minor": 0
      },
      "text/plain": [
       "Paginando api_publica_tjrj: 0 página [00:00, ? página/s]"
      ]
     },
     "metadata": {},
     "output_type": "display_data"
    },
    {
     "data": {
      "text/html": [
       "<div>\n",
       "<style scoped>\n",
       "    .dataframe tbody tr th:only-of-type {\n",
       "        vertical-align: middle;\n",
       "    }\n",
       "\n",
       "    .dataframe tbody tr th {\n",
       "        vertical-align: top;\n",
       "    }\n",
       "\n",
       "    .dataframe thead th {\n",
       "        text-align: right;\n",
       "    }\n",
       "</style>\n",
       "<table border=\"1\" class=\"dataframe\">\n",
       "  <thead>\n",
       "    <tr style=\"text-align: right;\">\n",
       "      <th></th>\n",
       "      <th>classe</th>\n",
       "      <th>numeroProcesso</th>\n",
       "      <th>sistema</th>\n",
       "      <th>formato</th>\n",
       "      <th>tribunal</th>\n",
       "      <th>dataHoraUltimaAtualizacao</th>\n",
       "      <th>grau</th>\n",
       "      <th>@timestamp</th>\n",
       "      <th>dataAjuizamento</th>\n",
       "      <th>id</th>\n",
       "      <th>nivelSigilo</th>\n",
       "      <th>orgaoJulgador</th>\n",
       "      <th>assuntos</th>\n",
       "    </tr>\n",
       "  </thead>\n",
       "  <tbody>\n",
       "    <tr>\n",
       "      <th>0</th>\n",
       "      <td>{'codigo': 241, 'nome': 'Petição Cível'}</td>\n",
       "      <td>10092161720238260016</td>\n",
       "      <td>{'codigo': 3, 'nome': 'SAJ'}</td>\n",
       "      <td>{'codigo': 1, 'nome': 'Eletrônico'}</td>\n",
       "      <td>TJSP</td>\n",
       "      <td>2025-01-10T17:30:41.793Z</td>\n",
       "      <td>JE</td>\n",
       "      <td>2025-02-07T17:38:06.012900843Z</td>\n",
       "      <td>2023-04-26T11:27:34.000Z</td>\n",
       "      <td>TJSP_JE_10092161720238260016</td>\n",
       "      <td>0</td>\n",
       "      <td>{'codigo': 10608, 'nome': '02 VARA JUIZADO ESP...</td>\n",
       "      <td>[{'codigo': 8893, 'nome': 'Atos Processuais'}]</td>\n",
       "    </tr>\n",
       "    <tr>\n",
       "      <th>1</th>\n",
       "      <td>{'codigo': 202, 'nome': 'Agravo de Instrumento'}</td>\n",
       "      <td>00665754820248190000</td>\n",
       "      <td>{'codigo': 8, 'nome': 'Outros'}</td>\n",
       "      <td>{'codigo': 1, 'nome': 'Eletrônico'}</td>\n",
       "      <td>TJRJ</td>\n",
       "      <td>2025-04-06T18:20:28.604Z</td>\n",
       "      <td>G2</td>\n",
       "      <td>2025-05-01T04:14:14.877152291Z</td>\n",
       "      <td>2024-08-16T15:07:06.000Z</td>\n",
       "      <td>TJRJ_G2_00665754820248190000</td>\n",
       "      <td>0</td>\n",
       "      <td>{'codigoMunicipioIBGE': 3304557, 'codigo': 856...</td>\n",
       "      <td>[{'codigo': 10499, 'nome': 'Programa de Comput...</td>\n",
       "    </tr>\n",
       "  </tbody>\n",
       "</table>\n",
       "</div>"
      ],
      "text/plain": [
       "                                             classe        numeroProcesso  \\\n",
       "0          {'codigo': 241, 'nome': 'Petição Cível'}  10092161720238260016   \n",
       "1  {'codigo': 202, 'nome': 'Agravo de Instrumento'}  00665754820248190000   \n",
       "\n",
       "                           sistema                              formato  \\\n",
       "0     {'codigo': 3, 'nome': 'SAJ'}  {'codigo': 1, 'nome': 'Eletrônico'}   \n",
       "1  {'codigo': 8, 'nome': 'Outros'}  {'codigo': 1, 'nome': 'Eletrônico'}   \n",
       "\n",
       "  tribunal dataHoraUltimaAtualizacao grau                      @timestamp  \\\n",
       "0     TJSP  2025-01-10T17:30:41.793Z   JE  2025-02-07T17:38:06.012900843Z   \n",
       "1     TJRJ  2025-04-06T18:20:28.604Z   G2  2025-05-01T04:14:14.877152291Z   \n",
       "\n",
       "            dataAjuizamento                            id  nivelSigilo  \\\n",
       "0  2023-04-26T11:27:34.000Z  TJSP_JE_10092161720238260016            0   \n",
       "1  2024-08-16T15:07:06.000Z  TJRJ_G2_00665754820248190000            0   \n",
       "\n",
       "                                       orgaoJulgador  \\\n",
       "0  {'codigo': 10608, 'nome': '02 VARA JUIZADO ESP...   \n",
       "1  {'codigoMunicipioIBGE': 3304557, 'codigo': 856...   \n",
       "\n",
       "                                            assuntos  \n",
       "0     [{'codigo': 8893, 'nome': 'Atos Processuais'}]  \n",
       "1  [{'codigo': 10499, 'nome': 'Programa de Comput...  "
      ]
     },
     "execution_count": 3,
     "metadata": {},
     "output_type": "execute_result"
    }
   ],
   "source": [
    "listagem = datajud.listar_processos(numero_processo=processos)\n",
    "listagem"
   ]
  },
  {
   "cell_type": "code",
   "execution_count": 4,
   "metadata": {},
   "outputs": [
    {
     "data": {
      "application/vnd.jupyter.widget-view+json": {
       "model_id": "0ca5040355f24f06956275476ad69bbb",
       "version_major": 2,
       "version_minor": 0
      },
      "text/plain": [
       "Paginando api_publica_tjrj:   0%|          | 0/15 [00:00<?, ? página/s]"
      ]
     },
     "metadata": {},
     "output_type": "display_data"
    },
    {
     "name": "stdout",
     "output_type": "stream",
     "text": [
      "(15000, 13)\n"
     ]
    },
    {
     "data": {
      "text/html": [
       "<div>\n",
       "<style scoped>\n",
       "    .dataframe tbody tr th:only-of-type {\n",
       "        vertical-align: middle;\n",
       "    }\n",
       "\n",
       "    .dataframe tbody tr th {\n",
       "        vertical-align: top;\n",
       "    }\n",
       "\n",
       "    .dataframe thead th {\n",
       "        text-align: right;\n",
       "    }\n",
       "</style>\n",
       "<table border=\"1\" class=\"dataframe\">\n",
       "  <thead>\n",
       "    <tr style=\"text-align: right;\">\n",
       "      <th></th>\n",
       "      <th>numeroProcesso</th>\n",
       "      <th>classe</th>\n",
       "      <th>sistema</th>\n",
       "      <th>formato</th>\n",
       "      <th>tribunal</th>\n",
       "      <th>dataHoraUltimaAtualizacao</th>\n",
       "      <th>grau</th>\n",
       "      <th>@timestamp</th>\n",
       "      <th>dataAjuizamento</th>\n",
       "      <th>id</th>\n",
       "      <th>nivelSigilo</th>\n",
       "      <th>orgaoJulgador</th>\n",
       "      <th>assuntos</th>\n",
       "    </tr>\n",
       "  </thead>\n",
       "  <tbody>\n",
       "    <tr>\n",
       "      <th>0</th>\n",
       "      <td>00003298920088190078</td>\n",
       "      <td>{'codigo': 282, 'nome': 'Ação Penal de Competê...</td>\n",
       "      <td>{'codigo': 8, 'nome': 'Outros'}</td>\n",
       "      <td>{'codigo': 2, 'nome': 'Físico'}</td>\n",
       "      <td>TJRJ</td>\n",
       "      <td>2023-08-15T08:01:14.384Z</td>\n",
       "      <td>G1</td>\n",
       "      <td>2025-05-07T15:05:37.427792820Z</td>\n",
       "      <td>2009-11-09T00:00:00.000Z</td>\n",
       "      <td>TJRJ_282_G1_11376_00003298920088190078</td>\n",
       "      <td>0</td>\n",
       "      <td>{'codigoMunicipioIBGE': 3300233, 'codigo': 113...</td>\n",
       "      <td>[{'codigo': 3370, 'nome': 'Homicídio Simples'}]</td>\n",
       "    </tr>\n",
       "    <tr>\n",
       "      <th>1</th>\n",
       "      <td>00004872720208190078</td>\n",
       "      <td>{'codigo': 282, 'nome': 'Ação Penal de Competê...</td>\n",
       "      <td>{'codigo': 8, 'nome': 'Outros'}</td>\n",
       "      <td>{'codigo': 1, 'nome': 'Eletrônico'}</td>\n",
       "      <td>TJRJ</td>\n",
       "      <td>2022-09-15T03:39:05.718Z</td>\n",
       "      <td>G1</td>\n",
       "      <td>2025-05-07T12:53:32.691605753Z</td>\n",
       "      <td>2020-02-21T00:00:00.000Z</td>\n",
       "      <td>TJRJ_282_G1_11376_00004872720208190078</td>\n",
       "      <td>0</td>\n",
       "      <td>{'codigoMunicipioIBGE': 3300233, 'codigo': 113...</td>\n",
       "      <td>[{'codigo': 3372, 'nome': 'Homicídio Qualifica...</td>\n",
       "    </tr>\n",
       "    <tr>\n",
       "      <th>2</th>\n",
       "      <td>00004880820038190078</td>\n",
       "      <td>{'codigo': 282, 'nome': 'Ação Penal de Competê...</td>\n",
       "      <td>{'codigo': 8, 'nome': 'Outros'}</td>\n",
       "      <td>{'codigo': 2, 'nome': 'Físico'}</td>\n",
       "      <td>TJRJ</td>\n",
       "      <td>2023-08-31T03:10:45.783Z</td>\n",
       "      <td>G1</td>\n",
       "      <td>2025-05-07T15:28:48.105469554Z</td>\n",
       "      <td>2003-04-01T00:00:00.000Z</td>\n",
       "      <td>TJRJ_282_G1_11376_00004880820038190078</td>\n",
       "      <td>0</td>\n",
       "      <td>{'codigoMunicipioIBGE': 3300233, 'codigo': 113...</td>\n",
       "      <td>[{'codigo': 3372, 'nome': 'Homicídio Qualifica...</td>\n",
       "    </tr>\n",
       "  </tbody>\n",
       "</table>\n",
       "</div>"
      ],
      "text/plain": [
       "         numeroProcesso                                             classe  \\\n",
       "0  00003298920088190078  {'codigo': 282, 'nome': 'Ação Penal de Competê...   \n",
       "1  00004872720208190078  {'codigo': 282, 'nome': 'Ação Penal de Competê...   \n",
       "2  00004880820038190078  {'codigo': 282, 'nome': 'Ação Penal de Competê...   \n",
       "\n",
       "                           sistema                              formato  \\\n",
       "0  {'codigo': 8, 'nome': 'Outros'}      {'codigo': 2, 'nome': 'Físico'}   \n",
       "1  {'codigo': 8, 'nome': 'Outros'}  {'codigo': 1, 'nome': 'Eletrônico'}   \n",
       "2  {'codigo': 8, 'nome': 'Outros'}      {'codigo': 2, 'nome': 'Físico'}   \n",
       "\n",
       "  tribunal dataHoraUltimaAtualizacao grau                      @timestamp  \\\n",
       "0     TJRJ  2023-08-15T08:01:14.384Z   G1  2025-05-07T15:05:37.427792820Z   \n",
       "1     TJRJ  2022-09-15T03:39:05.718Z   G1  2025-05-07T12:53:32.691605753Z   \n",
       "2     TJRJ  2023-08-31T03:10:45.783Z   G1  2025-05-07T15:28:48.105469554Z   \n",
       "\n",
       "            dataAjuizamento                                      id  \\\n",
       "0  2009-11-09T00:00:00.000Z  TJRJ_282_G1_11376_00003298920088190078   \n",
       "1  2020-02-21T00:00:00.000Z  TJRJ_282_G1_11376_00004872720208190078   \n",
       "2  2003-04-01T00:00:00.000Z  TJRJ_282_G1_11376_00004880820038190078   \n",
       "\n",
       "   nivelSigilo                                      orgaoJulgador  \\\n",
       "0            0  {'codigoMunicipioIBGE': 3300233, 'codigo': 113...   \n",
       "1            0  {'codigoMunicipioIBGE': 3300233, 'codigo': 113...   \n",
       "2            0  {'codigoMunicipioIBGE': 3300233, 'codigo': 113...   \n",
       "\n",
       "                                            assuntos  \n",
       "0    [{'codigo': 3370, 'nome': 'Homicídio Simples'}]  \n",
       "1  [{'codigo': 3372, 'nome': 'Homicídio Qualifica...  \n",
       "2  [{'codigo': 3372, 'nome': 'Homicídio Qualifica...  "
      ]
     },
     "execution_count": 4,
     "metadata": {},
     "output_type": "execute_result"
    }
   ],
   "source": [
    "listagem = datajud.listar_processos(classe = '282', tribunal = 'TJRJ', mostrar_movs=False, paginas=range(0,15))\n",
    "\n",
    "print(listagem.shape)\n",
    "listagem.head(3)"
   ]
  }
 ],
 "metadata": {
  "kernelspec": {
   "display_name": ".venv",
   "language": "python",
   "name": "python3"
  },
  "language_info": {
   "codemirror_mode": {
    "name": "ipython",
    "version": 3
   },
   "file_extension": ".py",
   "mimetype": "text/x-python",
   "name": "python",
   "nbconvert_exporter": "python",
   "pygments_lexer": "ipython3",
   "version": "3.11.11"
  }
 },
 "nbformat": 4,
 "nbformat_minor": 4
}
