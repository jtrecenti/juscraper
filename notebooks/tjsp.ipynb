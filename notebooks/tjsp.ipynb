{
 "cells": [
  {
   "cell_type": "markdown",
   "metadata": {},
   "source": [
    "# Exemplo de uso\n",
    "\n",
    "Para usar o juscraper, rode algo assim:"
   ]
  },
  {
   "cell_type": "code",
   "execution_count": 1,
   "metadata": {},
   "outputs": [],
   "source": [
    "import juscraper as jus\n",
    "\n",
    "# cria um objeto tjsp\n",
    "tjsp = jus.scraper('tjsp')"
   ]
  },
  {
   "cell_type": "code",
   "execution_count": 2,
   "metadata": {},
   "outputs": [
    {
     "name": "stderr",
     "output_type": "stream",
     "text": [
      "Baixando documentos: 100%|██████████| 3/3 [00:01<00:00,  1.78it/s]\n",
      "Processando documentos: 100%|██████████| 3/3 [00:00<00:00, 15.79it/s]"
     ]
    },
    {
     "name": "stdout",
     "output_type": "stream",
     "text": [
      "(30, 10)\n"
     ]
    },
    {
     "name": "stderr",
     "output_type": "stream",
     "text": [
      "\n"
     ]
    },
    {
     "data": {
      "text/html": [
       "<div>\n",
       "<style scoped>\n",
       "    .dataframe tbody tr th:only-of-type {\n",
       "        vertical-align: middle;\n",
       "    }\n",
       "\n",
       "    .dataframe tbody tr th {\n",
       "        vertical-align: top;\n",
       "    }\n",
       "\n",
       "    .dataframe thead th {\n",
       "        text-align: right;\n",
       "    }\n",
       "</style>\n",
       "<table border=\"1\" class=\"dataframe\">\n",
       "  <thead>\n",
       "    <tr style=\"text-align: right;\">\n",
       "      <th></th>\n",
       "      <th>cd_processo</th>\n",
       "      <th>id_processo</th>\n",
       "      <th>classe</th>\n",
       "      <th>assunto</th>\n",
       "      <th>magistrado</th>\n",
       "      <th>comarca</th>\n",
       "      <th>foro</th>\n",
       "      <th>vara</th>\n",
       "      <th>data_disponibilizacao</th>\n",
       "      <th>decisao</th>\n",
       "    </tr>\n",
       "  </thead>\n",
       "  <tbody>\n",
       "    <tr>\n",
       "      <th>0</th>\n",
       "      <td>07001NDXN0000</td>\n",
       "      <td>1027253-85.2024.8.26.0007</td>\n",
       "      <td>Procedimento do Juizado Especial Cível</td>\n",
       "      <td>Indenização por Dano Moral</td>\n",
       "      <td>ANA LUCIA SCHMIDT RIZZON</td>\n",
       "      <td>SÃO PAULO</td>\n",
       "      <td>Foro Regional VII - Itaquera</td>\n",
       "      <td>Vara do Juizado Especial Cível</td>\n",
       "      <td>25/05/2025</td>\n",
       "      <td>SENTENÇA\\n\\n\\n\\nProcesso Digital nº:\\t1027253-...</td>\n",
       "    </tr>\n",
       "    <tr>\n",
       "      <th>1</th>\n",
       "      <td>250005YE10000</td>\n",
       "      <td>0003662-95.2024.8.26.0077</td>\n",
       "      <td>Procedimento do Juizado Especial Cível</td>\n",
       "      <td>Obrigações</td>\n",
       "      <td>ERIC DOUGLAS SOARES GOMES</td>\n",
       "      <td>Birigui</td>\n",
       "      <td>Foro de Birigui</td>\n",
       "      <td>Vara do Juizado Especial Cível e Criminal</td>\n",
       "      <td>24/05/2025</td>\n",
       "      <td>SENTENÇA\\n\\n\\n\\nProcesso Digital nº:\\t0003662-...</td>\n",
       "    </tr>\n",
       "    <tr>\n",
       "      <th>2</th>\n",
       "      <td>I70003IE20000</td>\n",
       "      <td>1003378-19.2023.8.26.0655</td>\n",
       "      <td>Procedimento Comum Cível</td>\n",
       "      <td>Indenização por Dano Material</td>\n",
       "      <td>Flávia Cristina Campos Luders</td>\n",
       "      <td>Várzea Paulista</td>\n",
       "      <td>Foro de Várzea Paulista</td>\n",
       "      <td>2ª Vara</td>\n",
       "      <td>24/05/2025</td>\n",
       "      <td>SENTENÇA\\n\\n\\n\\nProcesso nº:\\t1003378-19.2023....</td>\n",
       "    </tr>\n",
       "  </tbody>\n",
       "</table>\n",
       "</div>"
      ],
      "text/plain": [
       "     cd_processo                id_processo  \\\n",
       "0  07001NDXN0000  1027253-85.2024.8.26.0007   \n",
       "1  250005YE10000  0003662-95.2024.8.26.0077   \n",
       "2  I70003IE20000  1003378-19.2023.8.26.0655   \n",
       "\n",
       "                                   classe                        assunto  \\\n",
       "0  Procedimento do Juizado Especial Cível     Indenização por Dano Moral   \n",
       "1  Procedimento do Juizado Especial Cível                     Obrigações   \n",
       "2                Procedimento Comum Cível  Indenização por Dano Material   \n",
       "\n",
       "                      magistrado          comarca  \\\n",
       "0       ANA LUCIA SCHMIDT RIZZON        SÃO PAULO   \n",
       "1      ERIC DOUGLAS SOARES GOMES          Birigui   \n",
       "2  Flávia Cristina Campos Luders  Várzea Paulista   \n",
       "\n",
       "                           foro                                       vara  \\\n",
       "0  Foro Regional VII - Itaquera             Vara do Juizado Especial Cível   \n",
       "1               Foro de Birigui  Vara do Juizado Especial Cível e Criminal   \n",
       "2       Foro de Várzea Paulista                                    2ª Vara   \n",
       "\n",
       "  data_disponibilizacao                                            decisao  \n",
       "0            25/05/2025  SENTENÇA\\n\\n\\n\\nProcesso Digital nº:\\t1027253-...  \n",
       "1            24/05/2025  SENTENÇA\\n\\n\\n\\nProcesso Digital nº:\\t0003662-...  \n",
       "2            24/05/2025  SENTENÇA\\n\\n\\n\\nProcesso nº:\\t1003378-19.2023....  "
      ]
     },
     "execution_count": 2,
     "metadata": {},
     "output_type": "execute_result"
    }
   ],
   "source": [
    "# baixa dados da [c]onsulta de [j]ulgados de [p]rimeiro [g]rau - cjpg\n",
    "dados_cjpg = tjsp.cjpg('golpe do pix', paginas=range(0,3))\n",
    "\n",
    "print(dados_cjpg.shape)\n",
    "dados_cjpg.head(3)"
   ]
  },
  {
   "cell_type": "code",
   "execution_count": 3,
   "metadata": {},
   "outputs": [
    {
     "name": "stdout",
     "output_type": "stream",
     "text": [
      "Total de páginas: 489\n",
      "Paginas a serem baixadas: [0, 1, 2]\n"
     ]
    },
    {
     "name": "stderr",
     "output_type": "stream",
     "text": [
      "Baixando documentos: 100%|██████████| 3/3 [00:02<00:00,  1.32it/s]\n",
      "Processando documentos: 100%|██████████| 3/3 [00:00<00:00, 15.19it/s]"
     ]
    },
    {
     "name": "stdout",
     "output_type": "stream",
     "text": [
      "(60, 10)\n"
     ]
    },
    {
     "name": "stderr",
     "output_type": "stream",
     "text": [
      "\n"
     ]
    },
    {
     "data": {
      "text/html": [
       "<div>\n",
       "<style scoped>\n",
       "    .dataframe tbody tr th:only-of-type {\n",
       "        vertical-align: middle;\n",
       "    }\n",
       "\n",
       "    .dataframe tbody tr th {\n",
       "        vertical-align: top;\n",
       "    }\n",
       "\n",
       "    .dataframe thead th {\n",
       "        text-align: right;\n",
       "    }\n",
       "</style>\n",
       "<table border=\"1\" class=\"dataframe\">\n",
       "  <thead>\n",
       "    <tr style=\"text-align: right;\">\n",
       "      <th></th>\n",
       "      <th>processo</th>\n",
       "      <th>cd_acordao</th>\n",
       "      <th>cd_foro</th>\n",
       "      <th>classe_assunto</th>\n",
       "      <th>relatora</th>\n",
       "      <th>comarca</th>\n",
       "      <th>orgao_julgador</th>\n",
       "      <th>data_julgamento</th>\n",
       "      <th>data_publicacao</th>\n",
       "      <th>ementa</th>\n",
       "    </tr>\n",
       "  </thead>\n",
       "  <tbody>\n",
       "    <tr>\n",
       "      <th>0</th>\n",
       "      <td>1022627-98.2024.8.26.0564</td>\n",
       "      <td>19256246</td>\n",
       "      <td>0</td>\n",
       "      <td>Apelação Cível / Bancários</td>\n",
       "      <td>Luis Carlos de Barros</td>\n",
       "      <td>São Bernardo do Campo</td>\n",
       "      <td>Órgão julgador: 20ª Câmara de Direito Privado</td>\n",
       "      <td>24/05/2025</td>\n",
       "      <td>24/05/2025</td>\n",
       "      <td>Ação declaratória c.c. e indenizatória. Emprés...</td>\n",
       "    </tr>\n",
       "    <tr>\n",
       "      <th>1</th>\n",
       "      <td>1000149-71.2024.8.26.0346</td>\n",
       "      <td>19256173</td>\n",
       "      <td>0</td>\n",
       "      <td>Apelação Cível / Bancários</td>\n",
       "      <td>PAULO SERGIO MANGERONA</td>\n",
       "      <td>Martinópolis</td>\n",
       "      <td>Órgão julgador: Núcleo de Justiça 4.0 em Segun...</td>\n",
       "      <td>24/05/2025</td>\n",
       "      <td>24/05/2025</td>\n",
       "      <td>APELAÇÃO. Ação indenizatória. Golpe da falsa c...</td>\n",
       "    </tr>\n",
       "    <tr>\n",
       "      <th>2</th>\n",
       "      <td>1030211-78.2023.8.26.0007</td>\n",
       "      <td>19254413</td>\n",
       "      <td>0</td>\n",
       "      <td>Apelação Cível / Bancários</td>\n",
       "      <td>Domingos de Siqueira Frascino</td>\n",
       "      <td>São Paulo</td>\n",
       "      <td>Órgão julgador: Núcleo de Justiça 4.0 em Segun...</td>\n",
       "      <td>23/05/2025</td>\n",
       "      <td>23/05/2025</td>\n",
       "      <td>DIREITO DO CONSUMIDOR E CIVIL. APELAÇÃO CÍVEL....</td>\n",
       "    </tr>\n",
       "  </tbody>\n",
       "</table>\n",
       "</div>"
      ],
      "text/plain": [
       "                    processo cd_acordao cd_foro              classe_assunto  \\\n",
       "0  1022627-98.2024.8.26.0564   19256246       0  Apelação Cível / Bancários   \n",
       "1  1000149-71.2024.8.26.0346   19256173       0  Apelação Cível / Bancários   \n",
       "2  1030211-78.2023.8.26.0007   19254413       0  Apelação Cível / Bancários   \n",
       "\n",
       "                        relatora                comarca  \\\n",
       "0          Luis Carlos de Barros  São Bernardo do Campo   \n",
       "1         PAULO SERGIO MANGERONA           Martinópolis   \n",
       "2  Domingos de Siqueira Frascino              São Paulo   \n",
       "\n",
       "                                      orgao_julgador data_julgamento  \\\n",
       "0      Órgão julgador: 20ª Câmara de Direito Privado      24/05/2025   \n",
       "1  Órgão julgador: Núcleo de Justiça 4.0 em Segun...      24/05/2025   \n",
       "2  Órgão julgador: Núcleo de Justiça 4.0 em Segun...      23/05/2025   \n",
       "\n",
       "  data_publicacao                                             ementa  \n",
       "0      24/05/2025  Ação declaratória c.c. e indenizatória. Emprés...  \n",
       "1      24/05/2025  APELAÇÃO. Ação indenizatória. Golpe da falsa c...  \n",
       "2      23/05/2025  DIREITO DO CONSUMIDOR E CIVIL. APELAÇÃO CÍVEL....  "
      ]
     },
     "execution_count": 3,
     "metadata": {},
     "output_type": "execute_result"
    }
   ],
   "source": [
    "# baixa dados da [c]onsulta de [j]ulgados de [s]egundo [g]rau - cjsg\n",
    "dados_cjsg = tjsp.cjsg('golpe do pix', paginas=range(0,3))\n",
    "\n",
    "print(dados_cjsg.shape)\n",
    "dados_cjsg.head(3)"
   ]
  },
  {
   "cell_type": "code",
   "execution_count": 6,
   "metadata": {},
   "outputs": [
    {
     "name": "stderr",
     "output_type": "stream",
     "text": [
      "Baixando processos:   0%|          | 0/1 [00:00<?, ?it/s]"
     ]
    },
    {
     "name": "stdout",
     "output_type": "stream",
     "text": [
      "Esse método precisa de autenticação para funcionar.\n",
      "Autenticando...\n"
     ]
    },
    {
     "name": "stderr",
     "output_type": "stream",
     "text": [
      "Baixando processos: 100%|██████████| 1/1 [00:02<00:00,  2.86s/it]\n"
     ]
    },
    {
     "name": "stdout",
     "output_type": "stream",
     "text": [
      "Autenticação falhou!\n",
      "Erro ao baixar o processo 1000149-71.2024.8.26.0346: Não foi possivel autenticar no TJSP.\n"
     ]
    },
    {
     "name": "stderr",
     "output_type": "stream",
     "text": [
      "Processando documentos: 0it [00:00, ?it/s]\n"
     ]
    },
    {
     "ename": "IndexError",
     "evalue": "list index out of range",
     "output_type": "error",
     "traceback": [
      "\u001b[31m---------------------------------------------------------------------------\u001b[39m",
      "\u001b[31mIndexError\u001b[39m                                Traceback (most recent call last)",
      "\u001b[36mCell\u001b[39m\u001b[36m \u001b[39m\u001b[32mIn[6]\u001b[39m\u001b[32m, line 1\u001b[39m\n\u001b[32m----> \u001b[39m\u001b[32m1\u001b[39m res = \u001b[43mtjsp\u001b[49m\u001b[43m.\u001b[49m\u001b[43mcpopg\u001b[49m\u001b[43m(\u001b[49m\u001b[33;43m'\u001b[39;49m\u001b[33;43m1000149-71.2024.8.26.0346\u001b[39;49m\u001b[33;43m'\u001b[39;49m\u001b[43m)\u001b[49m\n\u001b[32m      2\u001b[39m res\n",
      "\u001b[36mFile \u001b[39m\u001b[32m~\\OneDrive\\Documentos\\insper\\juscraper\\src\\juscraper\\courts\\tjsp\\client.py:82\u001b[39m, in \u001b[36mTJSPScraper.cpopg\u001b[39m\u001b[34m(self, id_cnj, method)\u001b[39m\n\u001b[32m     80\u001b[39m path = \u001b[33mf\u001b[39m\u001b[33m\"\u001b[39m\u001b[38;5;132;01m{\u001b[39;00m\u001b[38;5;28mself\u001b[39m.download_path\u001b[38;5;132;01m}\u001b[39;00m\u001b[33m/cpopg/\u001b[39m\u001b[33m\"\u001b[39m\n\u001b[32m     81\u001b[39m \u001b[38;5;28mself\u001b[39m.cpopg_download(id_cnj, method)\n\u001b[32m---> \u001b[39m\u001b[32m82\u001b[39m result = \u001b[38;5;28;43mself\u001b[39;49m\u001b[43m.\u001b[49m\u001b[43mcpopg_parse\u001b[49m\u001b[43m(\u001b[49m\u001b[43mpath\u001b[49m\u001b[43m)\u001b[49m\n\u001b[32m     83\u001b[39m shutil.rmtree(path)\n\u001b[32m     84\u001b[39m \u001b[38;5;28;01mreturn\u001b[39;00m result\n",
      "\u001b[36mFile \u001b[39m\u001b[32m~\\OneDrive\\Documentos\\insper\\juscraper\\src\\juscraper\\courts\\tjsp\\client.py:305\u001b[39m, in \u001b[36mTJSPScraper.cpopg_parse\u001b[39m\u001b[34m(self, path)\u001b[39m\n\u001b[32m    303\u001b[39m             \u001b[38;5;28;01mif\u001b[39;00m single_result:\n\u001b[32m    304\u001b[39m                 result.append(single_result)\n\u001b[32m--> \u001b[39m\u001b[32m305\u001b[39m     keys = \u001b[43mresult\u001b[49m\u001b[43m[\u001b[49m\u001b[32;43m0\u001b[39;49m\u001b[43m]\u001b[49m.keys()\n\u001b[32m    306\u001b[39m     lista_empilhada = {\n\u001b[32m    307\u001b[39m         key: pd.concat([dic[key] \u001b[38;5;28;01mfor\u001b[39;00m dic \u001b[38;5;129;01min\u001b[39;00m result], ignore_index=\u001b[38;5;28;01mTrue\u001b[39;00m)\n\u001b[32m    308\u001b[39m         \u001b[38;5;28;01mfor\u001b[39;00m key \u001b[38;5;129;01min\u001b[39;00m keys\n\u001b[32m    309\u001b[39m     }\n\u001b[32m    310\u001b[39m \u001b[38;5;66;03m# Defensive: if result is empty, return an empty dict or suitable structure\u001b[39;00m\n",
      "\u001b[31mIndexError\u001b[39m: list index out of range"
     ]
    }
   ],
   "source": [
    "res = tjsp.cpopg('1000149-71.2024.8.26.0346')\n",
    "res"
   ]
  },
  {
   "cell_type": "code",
   "execution_count": 5,
   "metadata": {},
   "outputs": [
    {
     "name": "stderr",
     "output_type": "stream",
     "text": [
      "Baixando processos: 100%|██████████| 3/3 [00:00<00:00,  3.97it/s]\n",
      "Processando arquivos: 100%|██████████| 4/4 [00:00<00:00,  4.57it/s]\n"
     ]
    },
    {
     "data": {
      "text/html": [
       "<div>\n",
       "<style scoped>\n",
       "    .dataframe tbody tr th:only-of-type {\n",
       "        vertical-align: middle;\n",
       "    }\n",
       "\n",
       "    .dataframe tbody tr th {\n",
       "        vertical-align: top;\n",
       "    }\n",
       "\n",
       "    .dataframe thead th {\n",
       "        text-align: right;\n",
       "    }\n",
       "</style>\n",
       "<table border=\"1\" class=\"dataframe\">\n",
       "  <thead>\n",
       "    <tr style=\"text-align: right;\">\n",
       "      <th></th>\n",
       "      <th>id_original</th>\n",
       "      <th>status</th>\n",
       "      <th>classe</th>\n",
       "      <th>assunto</th>\n",
       "      <th>secao</th>\n",
       "      <th>orgao_julgador</th>\n",
       "      <th>area</th>\n",
       "      <th>relator</th>\n",
       "      <th>origem</th>\n",
       "      <th>movimentacoes</th>\n",
       "      <th>partes</th>\n",
       "      <th>historico</th>\n",
       "      <th>decisoes</th>\n",
       "      <th>composicao</th>\n",
       "      <th>primeira_inst</th>\n",
       "      <th>processo</th>\n",
       "      <th>valor_da_acao</th>\n",
       "      <th>volume_apenso</th>\n",
       "    </tr>\n",
       "  </thead>\n",
       "  <tbody>\n",
       "    <tr>\n",
       "      <th>0</th>\n",
       "      <td>Embargos de Declaração Criminal\\n\\t\\t\\n\\t\\t\\t ...</td>\n",
       "      <td>Encerrado</td>\n",
       "      <td>Recurso em Sentido Estrito</td>\n",
       "      <td>DIREITO PENAL - Crime Tentado</td>\n",
       "      <td>Direito Criminal</td>\n",
       "      <td>16ª Câmara de Direito Criminal</td>\n",
       "      <td>Criminal</td>\n",
       "      <td>BORGES PEREIRA</td>\n",
       "      <td>Comarca de Marília / Foro de Marília / 3ª. Var...</td>\n",
       "      <td>[{'data': '25/03/2015', 'movimento': '', 'desc...</td>\n",
       "      <td>[{'id_parte': 1, 'nome': 'Jose Roberto dos Rei...</td>\n",
       "      <td>[]</td>\n",
       "      <td>[{'data': '20/03/2012', 'situacao': 'Julgado',...</td>\n",
       "      <td>[{'participacao': 'Relator', 'magistrado': 'Bo...</td>\n",
       "      <td>[{'id_1a_inst': '344.01.2003.022175-3', 'foro'...</td>\n",
       "      <td>None</td>\n",
       "      <td>None</td>\n",
       "      <td>None</td>\n",
       "    </tr>\n",
       "    <tr>\n",
       "      <th>1</th>\n",
       "      <td>Embargos de Declaração Criminal\\n\\t\\t\\n\\t\\t\\t ...</td>\n",
       "      <td>Encerrado</td>\n",
       "      <td>Apelação Criminal</td>\n",
       "      <td>DIREITO PENAL-Crimes contra a vida-Homicídio S...</td>\n",
       "      <td>Direito Criminal</td>\n",
       "      <td>6ª Câmara de Direito Criminal</td>\n",
       "      <td>Criminal</td>\n",
       "      <td>MACHADO DE ANDRADE</td>\n",
       "      <td>Comarca de Marília / Foro de Marília / 1ª Vara...</td>\n",
       "      <td>[{'data': '25/07/2022', 'movimento': '', 'desc...</td>\n",
       "      <td>[{'id_parte': 1, 'nome': 'Rubens Neres Santana...</td>\n",
       "      <td>[]</td>\n",
       "      <td>[{'data': '01/08/2019', 'situacao': 'Julgado',...</td>\n",
       "      <td>[{'participacao': 'Relator', 'magistrado': 'Ma...</td>\n",
       "      <td>[{'id_1a_inst': '344.01.2003.022175-3', 'foro'...</td>\n",
       "      <td>None</td>\n",
       "      <td>None</td>\n",
       "      <td>None</td>\n",
       "    </tr>\n",
       "    <tr>\n",
       "      <th>2</th>\n",
       "      <td>1000149-71.2024.8.26.0346</td>\n",
       "      <td>Julgado</td>\n",
       "      <td>Apelação Cível</td>\n",
       "      <td>DIREITO DO CONSUMIDOR - Contratos de Consumo -...</td>\n",
       "      <td>Direito Privado 2</td>\n",
       "      <td>Núcleo de Justiça 4.0 em Segundo Grau – Turma ...</td>\n",
       "      <td>Cível</td>\n",
       "      <td>PAULO SERGIO MANGERONA</td>\n",
       "      <td>Comarca de Martinópolis / Foro de Martinópolis...</td>\n",
       "      <td>[{'data': '24/05/2025', 'movimento': '', 'desc...</td>\n",
       "      <td>[{'id_parte': 1, 'nome': 'Fabio Cabral Silva d...</td>\n",
       "      <td>[]</td>\n",
       "      <td>[{'data': '24/05/2025', 'situacao': 'Julgado',...</td>\n",
       "      <td>[{'participacao': 'Relator', 'magistrado': 'Pa...</td>\n",
       "      <td>[{'id_1a_inst': '1000149-71.2024.8.26.0346(Pri...</td>\n",
       "      <td>None</td>\n",
       "      <td>72.896,87</td>\n",
       "      <td>None</td>\n",
       "    </tr>\n",
       "  </tbody>\n",
       "</table>\n",
       "</div>"
      ],
      "text/plain": [
       "                                         id_original     status  \\\n",
       "0  Embargos de Declaração Criminal\\n\\t\\t\\n\\t\\t\\t ...  Encerrado   \n",
       "1  Embargos de Declaração Criminal\\n\\t\\t\\n\\t\\t\\t ...  Encerrado   \n",
       "2                          1000149-71.2024.8.26.0346    Julgado   \n",
       "\n",
       "                       classe  \\\n",
       "0  Recurso em Sentido Estrito   \n",
       "1           Apelação Criminal   \n",
       "2              Apelação Cível   \n",
       "\n",
       "                                             assunto              secao  \\\n",
       "0                      DIREITO PENAL - Crime Tentado   Direito Criminal   \n",
       "1  DIREITO PENAL-Crimes contra a vida-Homicídio S...   Direito Criminal   \n",
       "2  DIREITO DO CONSUMIDOR - Contratos de Consumo -...  Direito Privado 2   \n",
       "\n",
       "                                      orgao_julgador      area  \\\n",
       "0                     16ª Câmara de Direito Criminal  Criminal   \n",
       "1                      6ª Câmara de Direito Criminal  Criminal   \n",
       "2  Núcleo de Justiça 4.0 em Segundo Grau – Turma ...     Cível   \n",
       "\n",
       "                  relator                                             origem  \\\n",
       "0          BORGES PEREIRA  Comarca de Marília / Foro de Marília / 3ª. Var...   \n",
       "1      MACHADO DE ANDRADE  Comarca de Marília / Foro de Marília / 1ª Vara...   \n",
       "2  PAULO SERGIO MANGERONA  Comarca de Martinópolis / Foro de Martinópolis...   \n",
       "\n",
       "                                       movimentacoes  \\\n",
       "0  [{'data': '25/03/2015', 'movimento': '', 'desc...   \n",
       "1  [{'data': '25/07/2022', 'movimento': '', 'desc...   \n",
       "2  [{'data': '24/05/2025', 'movimento': '', 'desc...   \n",
       "\n",
       "                                              partes historico  \\\n",
       "0  [{'id_parte': 1, 'nome': 'Jose Roberto dos Rei...        []   \n",
       "1  [{'id_parte': 1, 'nome': 'Rubens Neres Santana...        []   \n",
       "2  [{'id_parte': 1, 'nome': 'Fabio Cabral Silva d...        []   \n",
       "\n",
       "                                            decisoes  \\\n",
       "0  [{'data': '20/03/2012', 'situacao': 'Julgado',...   \n",
       "1  [{'data': '01/08/2019', 'situacao': 'Julgado',...   \n",
       "2  [{'data': '24/05/2025', 'situacao': 'Julgado',...   \n",
       "\n",
       "                                          composicao  \\\n",
       "0  [{'participacao': 'Relator', 'magistrado': 'Bo...   \n",
       "1  [{'participacao': 'Relator', 'magistrado': 'Ma...   \n",
       "2  [{'participacao': 'Relator', 'magistrado': 'Pa...   \n",
       "\n",
       "                                       primeira_inst processo valor_da_acao  \\\n",
       "0  [{'id_1a_inst': '344.01.2003.022175-3', 'foro'...     None          None   \n",
       "1  [{'id_1a_inst': '344.01.2003.022175-3', 'foro'...     None          None   \n",
       "2  [{'id_1a_inst': '1000149-71.2024.8.26.0346(Pri...     None     72.896,87   \n",
       "\n",
       "  volume_apenso  \n",
       "0          None  \n",
       "1          None  \n",
       "2          None  "
      ]
     },
     "execution_count": 5,
     "metadata": {},
     "output_type": "execute_result"
    }
   ],
   "source": [
    "res = tjsp.cposg(['00221752420038260344', '10001497120248260346', '00039417120248260048'])\n",
    "res"
   ]
  }
 ],
 "metadata": {
  "kernelspec": {
   "display_name": ".venv",
   "language": "python",
   "name": "python3"
  },
  "language_info": {
   "codemirror_mode": {
    "name": "ipython",
    "version": 3
   },
   "file_extension": ".py",
   "mimetype": "text/x-python",
   "name": "python",
   "nbconvert_exporter": "python",
   "pygments_lexer": "ipython3",
   "version": "3.11.11"
  }
 },
 "nbformat": 4,
 "nbformat_minor": 4
}
