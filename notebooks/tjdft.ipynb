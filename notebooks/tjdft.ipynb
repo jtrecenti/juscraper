{
 "cells": [
  {
   "cell_type": "code",
   "execution_count": 2,
   "metadata": {},
   "outputs": [],
   "source": [
    "import juscraper as jus\n",
    "\n",
    "# cria um objeto tjdft\n",
    "tjdft = jus.scraper('tjdft')"
   ]
  },
  {
   "cell_type": "code",
   "execution_count": 3,
   "metadata": {},
   "outputs": [
    {
     "name": "stdout",
     "output_type": "stream",
     "text": [
      "(30, 23)\n"
     ]
    },
    {
     "data": {
      "text/html": [
       "<div>\n",
       "<style scoped>\n",
       "    .dataframe tbody tr th:only-of-type {\n",
       "        vertical-align: middle;\n",
       "    }\n",
       "\n",
       "    .dataframe tbody tr th {\n",
       "        vertical-align: top;\n",
       "    }\n",
       "\n",
       "    .dataframe thead th {\n",
       "        text-align: right;\n",
       "    }\n",
       "</style>\n",
       "<table border=\"1\" class=\"dataframe\">\n",
       "  <thead>\n",
       "    <tr style=\"text-align: right;\">\n",
       "      <th></th>\n",
       "      <th>sequencial</th>\n",
       "      <th>base</th>\n",
       "      <th>subbase</th>\n",
       "      <th>uuid</th>\n",
       "      <th>identificador</th>\n",
       "      <th>dataJulgamento</th>\n",
       "      <th>dataPublicacao</th>\n",
       "      <th>decisao</th>\n",
       "      <th>ementa</th>\n",
       "      <th>localDePublicacao</th>\n",
       "      <th>...</th>\n",
       "      <th>uf</th>\n",
       "      <th>segredoJustica</th>\n",
       "      <th>turmaRecursal</th>\n",
       "      <th>descricaoOrgaoJulgador</th>\n",
       "      <th>versao</th>\n",
       "      <th>codigoClasseCnj</th>\n",
       "      <th>codigoSistjOrgaoJulgador</th>\n",
       "      <th>inteiroTeorHtml</th>\n",
       "      <th>marcadores</th>\n",
       "      <th>possuiInteiroTeor</th>\n",
       "    </tr>\n",
       "  </thead>\n",
       "  <tbody>\n",
       "    <tr>\n",
       "      <th>0</th>\n",
       "      <td>1</td>\n",
       "      <td>acordaos</td>\n",
       "      <td>acordaos</td>\n",
       "      <td>23362ccf-ffc5-4caf-b878-de1f671250f5</td>\n",
       "      <td>1998487</td>\n",
       "      <td>2025-05-15T03:00:00.000Z</td>\n",
       "      <td>2025-05-24T23:26:53.000Z</td>\n",
       "      <td>NEGAR PROVIMENTO AO RECURSO. UNÂNIME</td>\n",
       "      <td>EMENTA: DIREITO PENAL. EMBARGOS DE DECLARAÇÃO....</td>\n",
       "      <td>PJe</td>\n",
       "      <td>...</td>\n",
       "      <td>DF</td>\n",
       "      <td>False</td>\n",
       "      <td>False</td>\n",
       "      <td>1ª TURMA CRIMINAL</td>\n",
       "      <td>01</td>\n",
       "      <td>420</td>\n",
       "      <td>51</td>\n",
       "      <td>Inteiro Teor indisponível.</td>\n",
       "      <td>{'ementa': ['EMENTA: &lt;mark&gt;DIREITO&lt;/mark&gt; &lt;mar...</td>\n",
       "      <td>True</td>\n",
       "    </tr>\n",
       "    <tr>\n",
       "      <th>1</th>\n",
       "      <td>2</td>\n",
       "      <td>acordaos</td>\n",
       "      <td>acordaos</td>\n",
       "      <td>298272b3-1dd9-41c0-8f93-f29edd0d8cef</td>\n",
       "      <td>1999112</td>\n",
       "      <td>2025-05-15T03:00:00.000Z</td>\n",
       "      <td>2025-05-24T23:22:29.000Z</td>\n",
       "      <td>NEGAR PROVIMENTO. UNÂNIME.</td>\n",
       "      <td>Ementa: direito penal. Apelação criminal. Injú...</td>\n",
       "      <td>PJe</td>\n",
       "      <td>...</td>\n",
       "      <td>DF</td>\n",
       "      <td>False</td>\n",
       "      <td>False</td>\n",
       "      <td>2ª TURMA CRIMINAL</td>\n",
       "      <td>01</td>\n",
       "      <td>417</td>\n",
       "      <td>52</td>\n",
       "      <td>Inteiro Teor indisponível.</td>\n",
       "      <td>{'ementa': ['Ementa: &lt;mark&gt;direito&lt;/mark&gt; &lt;mar...</td>\n",
       "      <td>True</td>\n",
       "    </tr>\n",
       "    <tr>\n",
       "      <th>2</th>\n",
       "      <td>3</td>\n",
       "      <td>acordaos</td>\n",
       "      <td>acordaos</td>\n",
       "      <td>ee320b08-c91f-489f-8dba-1dc80b63fff7</td>\n",
       "      <td>1998988</td>\n",
       "      <td>2025-05-15T03:00:00.000Z</td>\n",
       "      <td>2025-05-24T20:52:42.000Z</td>\n",
       "      <td>NEGAR PROVIMENTO. UNÂNIME.</td>\n",
       "      <td>Ementa: DIREITO PENAL. APELAÇÃO CRIMINAL. RECE...</td>\n",
       "      <td>PJe</td>\n",
       "      <td>...</td>\n",
       "      <td>DF</td>\n",
       "      <td>False</td>\n",
       "      <td>False</td>\n",
       "      <td>2ª TURMA CRIMINAL</td>\n",
       "      <td>01</td>\n",
       "      <td>417</td>\n",
       "      <td>52</td>\n",
       "      <td>Inteiro Teor indisponível.</td>\n",
       "      <td>{'ementa': ['Ementa: &lt;mark&gt;DIREITO&lt;/mark&gt; &lt;mar...</td>\n",
       "      <td>True</td>\n",
       "    </tr>\n",
       "  </tbody>\n",
       "</table>\n",
       "<p>3 rows × 23 columns</p>\n",
       "</div>"
      ],
      "text/plain": [
       "   sequencial      base   subbase                                  uuid  \\\n",
       "0           1  acordaos  acordaos  23362ccf-ffc5-4caf-b878-de1f671250f5   \n",
       "1           2  acordaos  acordaos  298272b3-1dd9-41c0-8f93-f29edd0d8cef   \n",
       "2           3  acordaos  acordaos  ee320b08-c91f-489f-8dba-1dc80b63fff7   \n",
       "\n",
       "  identificador            dataJulgamento            dataPublicacao  \\\n",
       "0       1998487  2025-05-15T03:00:00.000Z  2025-05-24T23:26:53.000Z   \n",
       "1       1999112  2025-05-15T03:00:00.000Z  2025-05-24T23:22:29.000Z   \n",
       "2       1998988  2025-05-15T03:00:00.000Z  2025-05-24T20:52:42.000Z   \n",
       "\n",
       "                                decisao  \\\n",
       "0  NEGAR PROVIMENTO AO RECURSO. UNÂNIME   \n",
       "1            NEGAR PROVIMENTO. UNÂNIME.   \n",
       "2            NEGAR PROVIMENTO. UNÂNIME.   \n",
       "\n",
       "                                              ementa localDePublicacao  ...  \\\n",
       "0  EMENTA: DIREITO PENAL. EMBARGOS DE DECLARAÇÃO....               PJe  ...   \n",
       "1  Ementa: direito penal. Apelação criminal. Injú...               PJe  ...   \n",
       "2  Ementa: DIREITO PENAL. APELAÇÃO CRIMINAL. RECE...               PJe  ...   \n",
       "\n",
       "   uf segredoJustica  turmaRecursal descricaoOrgaoJulgador  versao  \\\n",
       "0  DF          False          False      1ª TURMA CRIMINAL      01   \n",
       "1  DF          False          False      2ª TURMA CRIMINAL      01   \n",
       "2  DF          False          False      2ª TURMA CRIMINAL      01   \n",
       "\n",
       "   codigoClasseCnj codigoSistjOrgaoJulgador             inteiroTeorHtml  \\\n",
       "0              420                       51  Inteiro Teor indisponível.   \n",
       "1              417                       52  Inteiro Teor indisponível.   \n",
       "2              417                       52  Inteiro Teor indisponível.   \n",
       "\n",
       "                                          marcadores  possuiInteiroTeor  \n",
       "0  {'ementa': ['EMENTA: <mark>DIREITO</mark> <mar...               True  \n",
       "1  {'ementa': ['Ementa: <mark>direito</mark> <mar...               True  \n",
       "2  {'ementa': ['Ementa: <mark>DIREITO</mark> <mar...               True  \n",
       "\n",
       "[3 rows x 23 columns]"
      ]
     },
     "execution_count": 3,
     "metadata": {},
     "output_type": "execute_result"
    }
   ],
   "source": [
    "# baixa dados da jurisprudência\n",
    "dados_cjsg = tjdft.cjsg('direito penal', paginas=range(0,3))\n",
    "\n",
    "print(dados_cjsg.shape)\n",
    "dados_cjsg.head(3)"
   ]
  },
  {
   "cell_type": "code",
   "execution_count": 6,
   "metadata": {},
   "outputs": [
    {
     "name": "stdout",
     "output_type": "stream",
     "text": [
      "EMENTA: DIREITO PENAL. EMBARGOS DE DECLARAÇÃO. PRETENSÃO DE REDISCUSSÃO DA MATÉRIA. INOVAÇÃO RECURSAL. IMPOSSIBILIDADE. VÍCIO. AUSENTE. MEIO PROCESSUAL INADEQUADO. PREQUESTIONAMENTO. EMBARGOS REJEITADOS.\n",
      "\n",
      "I. CASO EM EXAME\n",
      "\n",
      "1. Embargos de declaração opostos contra acórdão que negou provimento ao recu\n"
     ]
    }
   ],
   "source": [
    "print(dados_cjsg['ementa'].iloc[0][:300])"
   ]
  },
  {
   "cell_type": "code",
   "execution_count": 7,
   "metadata": {},
   "outputs": [
    {
     "data": {
      "text/plain": [
       "'0722443-83.2024.8.07.0003'"
      ]
     },
     "execution_count": 7,
     "metadata": {},
     "output_type": "execute_result"
    }
   ],
   "source": [
    "dados_cjsg['processo'].iloc[0]"
   ]
  }
 ],
 "metadata": {
  "kernelspec": {
   "display_name": ".venv",
   "language": "python",
   "name": "python3"
  },
  "language_info": {
   "codemirror_mode": {
    "name": "ipython",
    "version": 3
   },
   "file_extension": ".py",
   "mimetype": "text/x-python",
   "name": "python",
   "nbconvert_exporter": "python",
   "pygments_lexer": "ipython3",
   "version": "3.11.11"
  }
 },
 "nbformat": 4,
 "nbformat_minor": 2
}
