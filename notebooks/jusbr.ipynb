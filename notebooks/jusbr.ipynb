{
 "cells": [
  {
   "cell_type": "markdown",
   "metadata": {},
   "source": [
    "# Conexão com o JUSBR \n",
    "\n",
    "Este notebook demonstra como autenticar e obter um token de acesso para o portal JUSBR usando a classe `JUSBR_Scraper`.\n"
   ]
  },
  {
   "cell_type": "code",
   "execution_count": null,
   "metadata": {},
   "outputs": [],
   "source": [
    "import juscraper as jus\n",
    "import json"
   ]
  },
  {
   "cell_type": "code",
   "execution_count": null,
   "metadata": {},
   "outputs": [],
   "source": []
  },
  {
   "cell_type": "code",
   "execution_count": null,
   "metadata": {},
   "outputs": [],
   "source": [
    "import os\n",
    "from dotenv import load_dotenv\n",
    "load_dotenv()\n",
    "\n",
    "access_token = os.environ.get(\"access_token\")\n",
    "if access_token is None:\n",
    "    access_token = input(\"Digite o token JWT: \")"
   ]
  },
  {
   "cell_type": "markdown",
   "metadata": {},
   "source": [
    "## Autenticação manual via gov.br\n",
    "\n",
    "1. Acesse https://www.jus.br\n",
    "2. Faça login usando o gov.br\n",
    "3. Entre na página https://portaldeservicos.pdpj.jus.br/consulta (ou clique no botão 'Consultar processo', que aparece após o login)\n",
    "4. Na nova página, abra a aba Network do navegador (F12 ou 'Inspecionar elemento')\n",
    "5. Atualize a página (F5 ou ctrl+R ou no botão atualizar)\n",
    "6. Nas requisições que vão aparecer, procure a requisição que tem nome 'token'. Clique nela.\n",
    "7. Na tela ao lado, clique em 'Resposta'.\n",
    "8. Selecione e copie o campo 'access_token' que aparece lá.\n"
   ]
  },
  {
   "cell_type": "code",
   "execution_count": null,
   "metadata": {},
   "outputs": [],
   "source": [
    "jusbr = jus.scraper(\"jusbr\")\n",
    "jusbr.auth(token=access_token)"
   ]
  },
  {
   "cell_type": "markdown",
   "metadata": {},
   "source": [
    "## Baixando metadados dos processos"
   ]
  },
  {
   "cell_type": "markdown",
   "metadata": {},
   "source": [
    "Baixando uma lista de casos:"
   ]
  },
  {
   "cell_type": "code",
   "execution_count": null,
   "metadata": {},
   "outputs": [],
   "source": [
    "processos = ['10092161720238260016', '00039417120248260048']\n",
    "\n",
    "resultados = jusbr.cpopg(processos)"
   ]
  },
  {
   "cell_type": "code",
   "execution_count": null,
   "metadata": {},
   "outputs": [],
   "source": [
    "resultados"
   ]
  },
  {
   "cell_type": "code",
   "execution_count": null,
   "metadata": {},
   "outputs": [],
   "source": [
    "result_list = resultados['detalhes'].iloc[0]\n",
    "\n",
    "print(json.dumps(result_list, indent=2, ensure_ascii=False))"
   ]
  },
  {
   "cell_type": "markdown",
   "metadata": {},
   "source": [
    "Se quiser visualizar o texto do caso:"
   ]
  },
  {
   "cell_type": "markdown",
   "metadata": {},
   "source": [
    "## Baixando autos dos processos"
   ]
  },
  {
   "cell_type": "code",
   "execution_count": null,
   "metadata": {},
   "outputs": [],
   "source": [
    "df_docs = jusbr.download_documents(resultados)\n",
    "\n",
    "df_docs"
   ]
  },
  {
   "cell_type": "code",
   "execution_count": null,
   "metadata": {},
   "outputs": [],
   "source": [
    "print(df_docs['texto'][0])"
   ]
  },
  {
   "cell_type": "markdown",
   "metadata": {},
   "source": [
    "## Baixando uma lista grande de processos\n",
    "\n",
    "Se a lista de processos é muito grande, pode ser uma boa prática baixar um processo por vez e salvar os resultados em um arquivo parquet, por exemplo.\n",
    "\n",
    "No script abaixo, criamos uma pasta dentro da pasta atual, chamada jusbr/cpopg/. Ali dentro, para cada processo, criamos uma pasta com o número do processo e salvamos 2 arquivos: 1 com os metadados daquele processo e 1 com os textos dos documentos. A chave para juntar as duas bases é o número do processo."
   ]
  },
  {
   "cell_type": "code",
   "execution_count": null,
   "metadata": {},
   "outputs": [],
   "source": [
    "import os\n",
    "import pandas as pd\n",
    "from tqdm import tqdm\n",
    "from joblib import Parallel, delayed\n",
    "\n",
    "processos = ['10092161720238260016', '00039417120248260048', '10226951920238260003']\n",
    "\n",
    "resultados = jusbr.cpopg(processos)\n"
   ]
  },
  {
   "cell_type": "code",
   "execution_count": null,
   "metadata": {},
   "outputs": [],
   "source": [
    "\n",
    "def download_document(proc_no, jusbr, verbose=True):\n",
    "    if verbose:\n",
    "        print(f\"Baixando documentos do processo {proc_no}\\n\")\n",
    "    \n",
    "    resultado = jusbr.cpopg([proc_no])\n",
    "    row = resultado.iloc[0]\n",
    "    processo = row['processo']\n",
    "    row_df = pd.DataFrame([row])\n",
    "    # cria a pasta\n",
    "    process_path = os.path.join('jusbr/cpopg', processo)\n",
    "    os.makedirs(process_path, exist_ok=True)\n",
    "    \n",
    "    # baixa documentos do processo\n",
    "    if verbose:\n",
    "        print(f\"Baixando autos do processo {proc_no}\\n\")\n",
    "    \n",
    "    df_docs = jusbr.download_documents(row_df)\n",
    "    #df_docs = pd.DataFrame()\n",
    "    # salva documentos\n",
    "    df_docs.to_parquet(os.path.join(process_path, 'documents.parquet'), index=False)\n",
    "    # salva metadata\n",
    "    row_df.to_parquet(os.path.join(process_path, 'metadata.parquet'), index=False)\n",
    "\n",
    "\n",
    "Parallel(n_jobs=20)(\n",
    "    delayed(download_document)(proc_no, jusbr)\n",
    "    for proc_no in processos\n",
    ")\n"
   ]
  },
  {
   "cell_type": "code",
   "execution_count": null,
   "metadata": {},
   "outputs": [],
   "source": []
  }
 ],
 "metadata": {
  "kernelspec": {
   "display_name": ".venv",
   "language": "python",
   "name": "python3"
  },
  "language_info": {
   "codemirror_mode": {
    "name": "ipython",
    "version": 3
   },
   "file_extension": ".py",
   "mimetype": "text/x-python",
   "name": "python",
   "nbconvert_exporter": "python",
   "pygments_lexer": "ipython3",
   "version": "3.12.9"
  }
 },
 "nbformat": 4,
 "nbformat_minor": 2
}
