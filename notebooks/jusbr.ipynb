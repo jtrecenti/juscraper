{
 "cells": [
  {
   "cell_type": "markdown",
   "metadata": {},
   "source": [
    "# Conexão com o JUSBR \n",
    "\n",
    "Este notebook demonstra como autenticar e obter um token de acesso para o portal JUSBR usando a classe `JUSBR_Scraper`.\n"
   ]
  },
  {
   "cell_type": "code",
   "execution_count": 1,
   "metadata": {},
   "outputs": [],
   "source": [
    "import juscraper as jus\n",
    "import json\n",
    "\n",
    "jusbr = jus.scraper(\"jusbr\")"
   ]
  },
  {
   "cell_type": "markdown",
   "metadata": {},
   "source": [
    "## Autenticação manual via gov.br\n",
    "\n",
    "1. Acesse https://www.jus.br\n",
    "2. Faça login usando o gov.br\n",
    "3. Entre na página https://portaldeservicos.pdpj.jus.br/consulta (ou clique no botão 'Consultar processo', que aparece após o login)\n",
    "4. Na nova página, abra a aba Network do navegador (F12 ou 'Inspecionar elemento')\n",
    "5. Atualize a página (F5 ou ctrl+R ou no botão atualizar)\n",
    "6. Nas requisições que vão aparecer, procure a requisição que tem nome 'token'. Clique nela.\n",
    "7. Na tela ao lado, clique em 'Resposta'.\n",
    "8. Selecione e copie o campo 'access_token' que aparece lá.\n"
   ]
  },
  {
   "cell_type": "code",
   "execution_count": 3,
   "metadata": {},
   "outputs": [],
   "source": [
    "import os\n",
    "from dotenv import load_dotenv\n",
    "from getpass import getpass\n",
    "\n",
    "load_dotenv()\n",
    "\n",
    "access_token = os.environ.get(\"JUSBR_ACCESS_TOKEN\")\n",
    "if access_token is None:\n",
    "    # input como senha oculta\n",
    "    access_token = getpass(\"Digite o token JWT: \")\n"
   ]
  },
  {
   "cell_type": "code",
   "execution_count": null,
   "metadata": {},
   "outputs": [
    {
     "data": {
      "text/plain": [
       "True"
      ]
     },
     "execution_count": 4,
     "metadata": {},
     "output_type": "execute_result"
    }
   ],
   "source": [
    "\n",
    "jusbr.auth(token=access_token)"
   ]
  },
  {
   "cell_type": "markdown",
   "metadata": {},
   "source": [
    "Alternativa de autenticação: Firefox\n",
    "\n",
    "Faça o login no firefox e use o código abaixo, que captura os cookies e usa para obter um token JWT."
   ]
  },
  {
   "cell_type": "code",
   "execution_count": 2,
   "metadata": {},
   "outputs": [
    {
     "data": {
      "text/plain": [
       "True"
      ]
     },
     "execution_count": 2,
     "metadata": {},
     "output_type": "execute_result"
    }
   ],
   "source": [
    "jusbr.auth_firefox()"
   ]
  },
  {
   "cell_type": "markdown",
   "metadata": {},
   "source": [
    "## Baixando metadados dos processos"
   ]
  },
  {
   "cell_type": "markdown",
   "metadata": {},
   "source": [
    "Baixando uma lista de casos:"
   ]
  },
  {
   "cell_type": "code",
   "execution_count": 3,
   "metadata": {},
   "outputs": [
    {
     "data": {
      "text/html": [
       "<div>\n",
       "<style scoped>\n",
       "    .dataframe tbody tr th:only-of-type {\n",
       "        vertical-align: middle;\n",
       "    }\n",
       "\n",
       "    .dataframe tbody tr th {\n",
       "        vertical-align: top;\n",
       "    }\n",
       "\n",
       "    .dataframe thead th {\n",
       "        text-align: right;\n",
       "    }\n",
       "</style>\n",
       "<table border=\"1\" class=\"dataframe\">\n",
       "  <thead>\n",
       "    <tr style=\"text-align: right;\">\n",
       "      <th></th>\n",
       "      <th>processo</th>\n",
       "      <th>numeroProcesso</th>\n",
       "      <th>idCodexTribunal</th>\n",
       "      <th>detalhes</th>\n",
       "    </tr>\n",
       "  </thead>\n",
       "  <tbody>\n",
       "    <tr>\n",
       "      <th>0</th>\n",
       "      <td>10092161720238260016</td>\n",
       "      <td>1009216-17.2023.8.26.0016</td>\n",
       "      <td>None</td>\n",
       "      <td>{'nivelSigilo': 0, 'siglaTribunal': 'TJSP', 'n...</td>\n",
       "    </tr>\n",
       "    <tr>\n",
       "      <th>1</th>\n",
       "      <td>00039417120248260048</td>\n",
       "      <td>0003941-71.2024.8.26.0048</td>\n",
       "      <td>None</td>\n",
       "      <td>{'nivelSigilo': 0, 'siglaTribunal': 'TJSP', 'n...</td>\n",
       "    </tr>\n",
       "  </tbody>\n",
       "</table>\n",
       "</div>"
      ],
      "text/plain": [
       "               processo             numeroProcesso idCodexTribunal  \\\n",
       "0  10092161720238260016  1009216-17.2023.8.26.0016            None   \n",
       "1  00039417120248260048  0003941-71.2024.8.26.0048            None   \n",
       "\n",
       "                                            detalhes  \n",
       "0  {'nivelSigilo': 0, 'siglaTribunal': 'TJSP', 'n...  \n",
       "1  {'nivelSigilo': 0, 'siglaTribunal': 'TJSP', 'n...  "
      ]
     },
     "execution_count": 3,
     "metadata": {},
     "output_type": "execute_result"
    }
   ],
   "source": [
    "processos = ['10092161720238260016', '00039417120248260048']\n",
    "\n",
    "resultados = jusbr.cpopg(processos)\n",
    "\n",
    "resultados"
   ]
  },
  {
   "cell_type": "code",
   "execution_count": 4,
   "metadata": {},
   "outputs": [
    {
     "name": "stdout",
     "output_type": "stream",
     "text": [
      "{\n",
      "  \"sigla\": \"G1\",\n",
      "  \"nome\": \"1° Grau\",\n",
      "  \"numero\": 1\n",
      "}\n"
     ]
    }
   ],
   "source": [
    "result_list = resultados['detalhes'].iloc[0]\n",
    "\n",
    "print(json.dumps(result_list['tramitacaoAtual']['grau'], indent=2, ensure_ascii=False))"
   ]
  },
  {
   "cell_type": "markdown",
   "metadata": {},
   "source": [
    "Se quiser visualizar o texto do caso:"
   ]
  },
  {
   "cell_type": "markdown",
   "metadata": {},
   "source": [
    "## Baixando autos dos processos"
   ]
  },
  {
   "cell_type": "code",
   "execution_count": 5,
   "metadata": {},
   "outputs": [
    {
     "name": "stdout",
     "output_type": "stream",
     "text": [
      "(6, 17)\n"
     ]
    },
    {
     "data": {
      "text/html": [
       "<div>\n",
       "<style scoped>\n",
       "    .dataframe tbody tr th:only-of-type {\n",
       "        vertical-align: middle;\n",
       "    }\n",
       "\n",
       "    .dataframe tbody tr th {\n",
       "        vertical-align: top;\n",
       "    }\n",
       "\n",
       "    .dataframe thead th {\n",
       "        text-align: right;\n",
       "    }\n",
       "</style>\n",
       "<table border=\"1\" class=\"dataframe\">\n",
       "  <thead>\n",
       "    <tr style=\"text-align: right;\">\n",
       "      <th></th>\n",
       "      <th>numero_processo</th>\n",
       "      <th>idCodex</th>\n",
       "      <th>sequencia</th>\n",
       "      <th>nome</th>\n",
       "      <th>tipo</th>\n",
       "      <th>dataHoraJuntada</th>\n",
       "      <th>nivelSigilo</th>\n",
       "      <th>hrefTexto</th>\n",
       "      <th>hrefBinario</th>\n",
       "      <th>texto</th>\n",
       "      <th>_raw_text_api</th>\n",
       "      <th>arquivo</th>\n",
       "      <th>idOrigem</th>\n",
       "      <th>idDocumento</th>\n",
       "      <th>descricao</th>\n",
       "      <th>tipoDocumento</th>\n",
       "      <th>dataJuntada</th>\n",
       "    </tr>\n",
       "  </thead>\n",
       "  <tbody>\n",
       "    <tr>\n",
       "      <th>0</th>\n",
       "      <td>1009216-17.2023.8.26.0016</td>\n",
       "      <td>23219022228</td>\n",
       "      <td>28</td>\n",
       "      <td>Sentenas.pdf</td>\n",
       "      <td>{'codigo': 550, 'nome': 'Sentença', 'idCodex':...</td>\n",
       "      <td>2024-12-02T19:51:05</td>\n",
       "      <td>PUBLICO</td>\n",
       "      <td>/processos/1009216-17.2023.8.26.0016/documento...</td>\n",
       "      <td>/processos/1009216-17.2023.8.26.0016/documento...</td>\n",
       "      <td>TRIBUNAL DE JUSTIÇA DO ESTADO DE SÃO PAULO\\nCO...</td>\n",
       "      <td>\\nTRIBUNAL DE JUSTIÇA DO ESTADO DE SÃO PAULO\\n...</td>\n",
       "      <td>{'tipo': 'text/richtext', 'quantidadePaginas':...</td>\n",
       "      <td>PG5JM_336374331_0</td>\n",
       "      <td>None</td>\n",
       "      <td>None</td>\n",
       "      <td>None</td>\n",
       "      <td>None</td>\n",
       "    </tr>\n",
       "    <tr>\n",
       "      <th>1</th>\n",
       "      <td>1009216-17.2023.8.26.0016</td>\n",
       "      <td>22210997949</td>\n",
       "      <td>24</td>\n",
       "      <td>Ato_Ordinatrio.pdf</td>\n",
       "      <td>{'codigo': 14575, 'nome': 'Ato Ordinatório', '...</td>\n",
       "      <td>2024-04-24T11:54:33</td>\n",
       "      <td>PUBLICO</td>\n",
       "      <td>/processos/1009216-17.2023.8.26.0016/documento...</td>\n",
       "      <td>/processos/1009216-17.2023.8.26.0016/documento...</td>\n",
       "      <td>TRIBUNAL DE JUSTIÇA DO ESTADO DE SÃO PAULO\\nCO...</td>\n",
       "      <td>\\nTRIBUNAL DE JUSTIÇA DO ESTADO DE SÃO PAULO\\n...</td>\n",
       "      <td>{'tipo': 'text/richtext', 'quantidadePaginas':...</td>\n",
       "      <td>PG5JM_306567040_0</td>\n",
       "      <td>None</td>\n",
       "      <td>None</td>\n",
       "      <td>None</td>\n",
       "      <td>None</td>\n",
       "    </tr>\n",
       "    <tr>\n",
       "      <th>2</th>\n",
       "      <td>1009216-17.2023.8.26.0016</td>\n",
       "      <td>16542603918</td>\n",
       "      <td>10</td>\n",
       "      <td>Ato_Ordinatrio.pdf</td>\n",
       "      <td>{'codigo': 14575, 'nome': 'Ato Ordinatório', '...</td>\n",
       "      <td>2023-05-25T14:31:12</td>\n",
       "      <td>PUBLICO</td>\n",
       "      <td>/processos/1009216-17.2023.8.26.0016/documento...</td>\n",
       "      <td>/processos/1009216-17.2023.8.26.0016/documento...</td>\n",
       "      <td>TRIBUNAL DE JUSTIÇA DO ESTADO DE SÃO PAULO\\nCO...</td>\n",
       "      <td>\\nTRIBUNAL DE JUSTIÇA DO ESTADO DE SÃO PAULO\\n...</td>\n",
       "      <td>{'tipo': 'text/richtext', 'quantidadePaginas':...</td>\n",
       "      <td>PG5JM_262181327_0</td>\n",
       "      <td>None</td>\n",
       "      <td>None</td>\n",
       "      <td>None</td>\n",
       "      <td>None</td>\n",
       "    </tr>\n",
       "  </tbody>\n",
       "</table>\n",
       "</div>"
      ],
      "text/plain": [
       "             numero_processo      idCodex  sequencia                nome  \\\n",
       "0  1009216-17.2023.8.26.0016  23219022228         28        Sentenas.pdf   \n",
       "1  1009216-17.2023.8.26.0016  22210997949         24  Ato_Ordinatrio.pdf   \n",
       "2  1009216-17.2023.8.26.0016  16542603918         10  Ato_Ordinatrio.pdf   \n",
       "\n",
       "                                                tipo      dataHoraJuntada  \\\n",
       "0  {'codigo': 550, 'nome': 'Sentença', 'idCodex':...  2024-12-02T19:51:05   \n",
       "1  {'codigo': 14575, 'nome': 'Ato Ordinatório', '...  2024-04-24T11:54:33   \n",
       "2  {'codigo': 14575, 'nome': 'Ato Ordinatório', '...  2023-05-25T14:31:12   \n",
       "\n",
       "  nivelSigilo                                          hrefTexto  \\\n",
       "0     PUBLICO  /processos/1009216-17.2023.8.26.0016/documento...   \n",
       "1     PUBLICO  /processos/1009216-17.2023.8.26.0016/documento...   \n",
       "2     PUBLICO  /processos/1009216-17.2023.8.26.0016/documento...   \n",
       "\n",
       "                                         hrefBinario  \\\n",
       "0  /processos/1009216-17.2023.8.26.0016/documento...   \n",
       "1  /processos/1009216-17.2023.8.26.0016/documento...   \n",
       "2  /processos/1009216-17.2023.8.26.0016/documento...   \n",
       "\n",
       "                                               texto  \\\n",
       "0  TRIBUNAL DE JUSTIÇA DO ESTADO DE SÃO PAULO\\nCO...   \n",
       "1  TRIBUNAL DE JUSTIÇA DO ESTADO DE SÃO PAULO\\nCO...   \n",
       "2  TRIBUNAL DE JUSTIÇA DO ESTADO DE SÃO PAULO\\nCO...   \n",
       "\n",
       "                                       _raw_text_api  \\\n",
       "0  \\nTRIBUNAL DE JUSTIÇA DO ESTADO DE SÃO PAULO\\n...   \n",
       "1  \\nTRIBUNAL DE JUSTIÇA DO ESTADO DE SÃO PAULO\\n...   \n",
       "2  \\nTRIBUNAL DE JUSTIÇA DO ESTADO DE SÃO PAULO\\n...   \n",
       "\n",
       "                                             arquivo           idOrigem  \\\n",
       "0  {'tipo': 'text/richtext', 'quantidadePaginas':...  PG5JM_336374331_0   \n",
       "1  {'tipo': 'text/richtext', 'quantidadePaginas':...  PG5JM_306567040_0   \n",
       "2  {'tipo': 'text/richtext', 'quantidadePaginas':...  PG5JM_262181327_0   \n",
       "\n",
       "  idDocumento descricao tipoDocumento dataJuntada  \n",
       "0        None      None          None        None  \n",
       "1        None      None          None        None  \n",
       "2        None      None          None        None  "
      ]
     },
     "execution_count": 5,
     "metadata": {},
     "output_type": "execute_result"
    }
   ],
   "source": [
    "df_docs = jusbr.download_documents(resultados)\n",
    "\n",
    "print(df_docs.shape)\n",
    "df_docs.head(3)"
   ]
  },
  {
   "cell_type": "code",
   "execution_count": 6,
   "metadata": {},
   "outputs": [
    {
     "name": "stdout",
     "output_type": "stream",
     "text": [
      "TRIBUNAL DE JUSTIÇA DO ESTADO DE SÃO PAULO\n",
      "COMARCA de SÃO PAULO\n",
      "Foro Central Juizados Especiais Cíveis\n",
      "2ª Vara do Juizado Especial Cível - Vergueiro\n",
      "Rua Vergueiro, 835, São Paulo - SP - cep 01504-001 \n"
     ]
    }
   ],
   "source": [
    "print(df_docs['texto'][0][:200])"
   ]
  },
  {
   "cell_type": "markdown",
   "metadata": {},
   "source": [
    "## Baixando uma lista grande de processos\n",
    "\n",
    "Se a lista de processos é muito grande, pode ser uma boa prática baixar um processo por vez e salvar os resultados em um arquivo parquet, por exemplo.\n",
    "\n",
    "No script abaixo, criamos uma pasta dentro da pasta atual, chamada jusbr/cpopg/. Ali dentro, para cada processo, criamos uma pasta com o número do processo e salvamos 2 arquivos: 1 com os metadados daquele processo e 1 com os textos dos documentos. A chave para juntar as duas bases é o número do processo."
   ]
  },
  {
   "cell_type": "code",
   "execution_count": null,
   "metadata": {},
   "outputs": [],
   "source": [
    "import os\n",
    "import pandas as pd\n",
    "from tqdm import tqdm\n",
    "from joblib import Parallel, delayed\n",
    "\n",
    "processos = ['10092161720238260016', '00039417120248260048', '10226951920238260003']\n",
    "\n",
    "resultados = jusbr.cpopg(processos)"
   ]
  },
  {
   "cell_type": "code",
   "execution_count": null,
   "metadata": {},
   "outputs": [],
   "source": [
    "\n",
    "def download_document(proc_no, jusbr, verbose=True):\n",
    "    if verbose:\n",
    "        print(f\"Baixando documentos do processo {proc_no}\\n\")\n",
    "    \n",
    "    resultado = jusbr.cpopg([proc_no])\n",
    "    row = resultado.iloc[0]\n",
    "    processo = row['processo']\n",
    "    row_df = pd.DataFrame([row])\n",
    "    # cria a pasta\n",
    "    process_path = os.path.join('jusbr/cpopg', processo)\n",
    "    os.makedirs(process_path, exist_ok=True)\n",
    "    \n",
    "    # baixa documentos do processo\n",
    "    if verbose:\n",
    "        print(f\"Baixando autos do processo {proc_no}\\n\")\n",
    "    \n",
    "    df_docs = jusbr.download_documents(row_df)\n",
    "    #df_docs = pd.DataFrame()\n",
    "    # salva documentos\n",
    "    df_docs.to_parquet(os.path.join(process_path, 'documents.parquet'), index=False)\n",
    "    # salva metadata\n",
    "    row_df.to_parquet(os.path.join(process_path, 'metadata.parquet'), index=False)\n",
    "\n",
    "\n",
    "Parallel(n_jobs=20)(\n",
    "    delayed(download_document)(proc_no, jusbr)\n",
    "    for proc_no in processos\n",
    ")\n"
   ]
  }
 ],
 "metadata": {
  "kernelspec": {
   "display_name": ".venv",
   "language": "python",
   "name": "python3"
  },
  "language_info": {
   "codemirror_mode": {
    "name": "ipython",
    "version": 3
   },
   "file_extension": ".py",
   "mimetype": "text/x-python",
   "name": "python",
   "nbconvert_exporter": "python",
   "pygments_lexer": "ipython3",
   "version": "3.11.11"
  }
 },
 "nbformat": 4,
 "nbformat_minor": 2
}
